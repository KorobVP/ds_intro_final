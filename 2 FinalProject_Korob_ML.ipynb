{
 "cells": [
  {
   "cell_type": "code",
   "execution_count": 1,
   "id": "ca5de6e4",
   "metadata": {},
   "outputs": [],
   "source": [
    "import pandas as pd\n",
    "\n",
    "import seaborn as sns\n",
    "import matplotlib.pyplot as plt\n",
    "%matplotlib inline\n",
    "\n",
    "import dill\n",
    "\n",
    "import numpy as np\n",
    "\n",
    "import optbinning as opt\n",
    "from datetime import datetime\n",
    "\n",
    "import warnings\n",
    "warnings.filterwarnings('ignore')\n",
    "\n",
    "from catboost import CatBoostClassifier\n",
    "\n",
    "from sklearn.impute import SimpleImputer\n",
    "from sklearn.model_selection import train_test_split\n",
    "from sklearn.metrics import accuracy_score, confusion_matrix, roc_auc_score, roc_curve, auc, f1_score, precision_score, recall_score\n"
   ]
  },
  {
   "cell_type": "code",
   "execution_count": 2,
   "id": "9db41d65",
   "metadata": {},
   "outputs": [],
   "source": [
    "import itertools\n",
    "def plot_confusion_matrix(cm, classes,\n",
    "                          normalize=False,\n",
    "                          title='Confusion matrix',\n",
    "                          cmap=plt.cm.Blues):\n",
    " \n",
    "    plt.imshow(cm, interpolation='nearest', cmap=cmap)\n",
    "    plt.title(title)\n",
    "    plt.colorbar()\n",
    "    tick_marks = np.arange(len(classes))\n",
    "    plt.xticks(tick_marks, classes, rotation=45)\n",
    "    plt.yticks(tick_marks, classes)\n",
    " \n",
    "    fmt = '.2f' if normalize else 'd'\n",
    "    thresh = cm.max() / 2.\n",
    "    for i, j in itertools.product(range(cm.shape[0]), range(cm.shape[1])):\n",
    "        plt.text(j, i, format(cm[i, j], fmt),\n",
    "                 horizontalalignment=\"center\",\n",
    "                 color=\"white\" if cm[i, j] > thresh else \"black\")\n",
    " \n",
    "    plt.tight_layout()\n",
    "    plt.ylabel('True label')\n",
    "    plt.xlabel('Predicted label')\n",
    "\n",
    "def metrics(fact, pred):\n",
    "    plot_confusion_matrix(confusion_matrix(fact, pred > 0.5), ['0','1'])\n",
    "    print('precision:', precision_score(fact, pred > 0.5))\n",
    "    print('recall:', recall_score(fact, pred > 0.5))\n",
    "    print('f1_score:', f1_score(fact, pred > 0.5))    \n",
    "    print('roc_auc:', roc_auc_score(fact, pred))"
   ]
  },
  {
   "cell_type": "markdown",
   "id": "a2e82701",
   "metadata": {},
   "source": [
    "## 1. Обработка ga_sessions.csv\n",
    "\n",
    "### 1.1. Загрузка данных"
   ]
  },
  {
   "cell_type": "code",
   "execution_count": 39,
   "id": "167d98ec",
   "metadata": {},
   "outputs": [
    {
     "data": {
      "text/html": [
       "<div>\n",
       "<style scoped>\n",
       "    .dataframe tbody tr th:only-of-type {\n",
       "        vertical-align: middle;\n",
       "    }\n",
       "\n",
       "    .dataframe tbody tr th {\n",
       "        vertical-align: top;\n",
       "    }\n",
       "\n",
       "    .dataframe thead th {\n",
       "        text-align: right;\n",
       "    }\n",
       "</style>\n",
       "<table border=\"1\" class=\"dataframe\">\n",
       "  <thead>\n",
       "    <tr style=\"text-align: right;\">\n",
       "      <th></th>\n",
       "      <th>session_id</th>\n",
       "      <th>client_id</th>\n",
       "      <th>utm_source</th>\n",
       "      <th>utm_medium</th>\n",
       "      <th>utm_campaign</th>\n",
       "      <th>utm_adcontent</th>\n",
       "      <th>utm_keyword</th>\n",
       "      <th>device_category</th>\n",
       "      <th>device_os</th>\n",
       "      <th>device_brand</th>\n",
       "      <th>device_model</th>\n",
       "      <th>device_screen_resolution</th>\n",
       "      <th>device_browser</th>\n",
       "      <th>geo_country</th>\n",
       "      <th>geo_city</th>\n",
       "    </tr>\n",
       "  </thead>\n",
       "  <tbody>\n",
       "    <tr>\n",
       "      <th>0</th>\n",
       "      <td>9055434745589932991.1637753792.1637753792</td>\n",
       "      <td>2108382700.163776</td>\n",
       "      <td>ZpYIoDJMcFzVoPFsHGJL</td>\n",
       "      <td>banner</td>\n",
       "      <td>LEoPHuyFvzoNfnzGgfcd</td>\n",
       "      <td>vCIpmpaGBnIQhyYNkXqp</td>\n",
       "      <td>puhZPIYqKXeFPaUviSjo</td>\n",
       "      <td>mobile</td>\n",
       "      <td>Android</td>\n",
       "      <td>Huawei</td>\n",
       "      <td>NaN</td>\n",
       "      <td>360x720</td>\n",
       "      <td>Chrome</td>\n",
       "      <td>Russia</td>\n",
       "      <td>Zlatoust</td>\n",
       "    </tr>\n",
       "    <tr>\n",
       "      <th>1</th>\n",
       "      <td>905544597018549464.1636867290.1636867290</td>\n",
       "      <td>210838531.163687</td>\n",
       "      <td>MvfHsxITijuriZxsqZqt</td>\n",
       "      <td>cpm</td>\n",
       "      <td>FTjNLDyTrXaWYgZymFkV</td>\n",
       "      <td>xhoenQgDQsgfEPYNPwKO</td>\n",
       "      <td>IGUCNvHlhfHpROGclCit</td>\n",
       "      <td>mobile</td>\n",
       "      <td>Android</td>\n",
       "      <td>Samsung</td>\n",
       "      <td>NaN</td>\n",
       "      <td>385x854</td>\n",
       "      <td>Samsung Internet</td>\n",
       "      <td>Russia</td>\n",
       "      <td>Moscow</td>\n",
       "    </tr>\n",
       "    <tr>\n",
       "      <th>2</th>\n",
       "      <td>9055446045651783499.1640648526.1640648526</td>\n",
       "      <td>2108385331.164065</td>\n",
       "      <td>ZpYIoDJMcFzVoPFsHGJL</td>\n",
       "      <td>banner</td>\n",
       "      <td>LEoPHuyFvzoNfnzGgfcd</td>\n",
       "      <td>vCIpmpaGBnIQhyYNkXqp</td>\n",
       "      <td>puhZPIYqKXeFPaUviSjo</td>\n",
       "      <td>mobile</td>\n",
       "      <td>Android</td>\n",
       "      <td>Huawei</td>\n",
       "      <td>NaN</td>\n",
       "      <td>360x720</td>\n",
       "      <td>Chrome</td>\n",
       "      <td>Russia</td>\n",
       "      <td>Krasnoyarsk</td>\n",
       "    </tr>\n",
       "    <tr>\n",
       "      <th>3</th>\n",
       "      <td>9055447046360770272.1622255328.1622255328</td>\n",
       "      <td>2108385564.162225</td>\n",
       "      <td>kjsLglQLzykiRbcDiGcD</td>\n",
       "      <td>cpc</td>\n",
       "      <td>NaN</td>\n",
       "      <td>NOBKLgtuvqYWkXQHeYWM</td>\n",
       "      <td>NaN</td>\n",
       "      <td>mobile</td>\n",
       "      <td>NaN</td>\n",
       "      <td>Xiaomi</td>\n",
       "      <td>NaN</td>\n",
       "      <td>393x786</td>\n",
       "      <td>Chrome</td>\n",
       "      <td>Russia</td>\n",
       "      <td>Moscow</td>\n",
       "    </tr>\n",
       "    <tr>\n",
       "      <th>4</th>\n",
       "      <td>9055447046360770272.1622255345.1622255345</td>\n",
       "      <td>2108385564.162225</td>\n",
       "      <td>kjsLglQLzykiRbcDiGcD</td>\n",
       "      <td>cpc</td>\n",
       "      <td>NaN</td>\n",
       "      <td>NaN</td>\n",
       "      <td>NaN</td>\n",
       "      <td>mobile</td>\n",
       "      <td>NaN</td>\n",
       "      <td>Xiaomi</td>\n",
       "      <td>NaN</td>\n",
       "      <td>393x786</td>\n",
       "      <td>Chrome</td>\n",
       "      <td>Russia</td>\n",
       "      <td>Moscow</td>\n",
       "    </tr>\n",
       "  </tbody>\n",
       "</table>\n",
       "</div>"
      ],
      "text/plain": [
       "                                  session_id          client_id  \\\n",
       "0  9055434745589932991.1637753792.1637753792  2108382700.163776   \n",
       "1   905544597018549464.1636867290.1636867290   210838531.163687   \n",
       "2  9055446045651783499.1640648526.1640648526  2108385331.164065   \n",
       "3  9055447046360770272.1622255328.1622255328  2108385564.162225   \n",
       "4  9055447046360770272.1622255345.1622255345  2108385564.162225   \n",
       "\n",
       "             utm_source utm_medium          utm_campaign  \\\n",
       "0  ZpYIoDJMcFzVoPFsHGJL     banner  LEoPHuyFvzoNfnzGgfcd   \n",
       "1  MvfHsxITijuriZxsqZqt        cpm  FTjNLDyTrXaWYgZymFkV   \n",
       "2  ZpYIoDJMcFzVoPFsHGJL     banner  LEoPHuyFvzoNfnzGgfcd   \n",
       "3  kjsLglQLzykiRbcDiGcD        cpc                   NaN   \n",
       "4  kjsLglQLzykiRbcDiGcD        cpc                   NaN   \n",
       "\n",
       "          utm_adcontent           utm_keyword device_category device_os  \\\n",
       "0  vCIpmpaGBnIQhyYNkXqp  puhZPIYqKXeFPaUviSjo          mobile   Android   \n",
       "1  xhoenQgDQsgfEPYNPwKO  IGUCNvHlhfHpROGclCit          mobile   Android   \n",
       "2  vCIpmpaGBnIQhyYNkXqp  puhZPIYqKXeFPaUviSjo          mobile   Android   \n",
       "3  NOBKLgtuvqYWkXQHeYWM                   NaN          mobile       NaN   \n",
       "4                   NaN                   NaN          mobile       NaN   \n",
       "\n",
       "  device_brand device_model device_screen_resolution    device_browser  \\\n",
       "0       Huawei          NaN                  360x720            Chrome   \n",
       "1      Samsung          NaN                  385x854  Samsung Internet   \n",
       "2       Huawei          NaN                  360x720            Chrome   \n",
       "3       Xiaomi          NaN                  393x786            Chrome   \n",
       "4       Xiaomi          NaN                  393x786            Chrome   \n",
       "\n",
       "  geo_country     geo_city  \n",
       "0      Russia     Zlatoust  \n",
       "1      Russia       Moscow  \n",
       "2      Russia  Krasnoyarsk  \n",
       "3      Russia       Moscow  \n",
       "4      Russia       Moscow  "
      ]
     },
     "execution_count": 39,
     "metadata": {},
     "output_type": "execute_result"
    }
   ],
   "source": [
    "df_sessions = pd.read_csv('d:/Python/SB/final_project/data/ga_sessions.csv')\n",
    "# Оставим в датасете только id сессии, клиента и столбцы, необходимые по условиям задачи (типа utm_*, device_*, geo_*)\n",
    "cols = df_sessions.columns\n",
    "res_col = ['session_id', 'client_id']\n",
    "for cl in cols:\n",
    "    if cl[:4] in ('utm_', 'devi', 'geo_'):\n",
    "        res_col.append(cl)\n",
    "\n",
    "df_sessions = df_sessions[res_col]\n",
    "df_sessions.head()"
   ]
  },
  {
   "cell_type": "code",
   "execution_count": 4,
   "id": "bdf8fa4f",
   "metadata": {},
   "outputs": [
    {
     "name": "stdout",
     "output_type": "stream",
     "text": [
      "<class 'pandas.core.frame.DataFrame'>\n",
      "RangeIndex: 1860042 entries, 0 to 1860041\n",
      "Data columns (total 15 columns):\n",
      " #   Column                    Dtype \n",
      "---  ------                    ----- \n",
      " 0   session_id                object\n",
      " 1   client_id                 object\n",
      " 2   utm_source                object\n",
      " 3   utm_medium                object\n",
      " 4   utm_campaign              object\n",
      " 5   utm_adcontent             object\n",
      " 6   utm_keyword               object\n",
      " 7   device_category           object\n",
      " 8   device_os                 object\n",
      " 9   device_brand              object\n",
      " 10  device_model              object\n",
      " 11  device_screen_resolution  object\n",
      " 12  device_browser            object\n",
      " 13  geo_country               object\n",
      " 14  geo_city                  object\n",
      "dtypes: object(15)\n",
      "memory usage: 212.9+ MB\n"
     ]
    }
   ],
   "source": [
    "# Посмотрим на размер датафрейма и на типы столбцов\n",
    "df_sessions.info()"
   ]
  },
  {
   "cell_type": "markdown",
   "id": "d1b85e9d",
   "metadata": {},
   "source": [
    "### 1.2. Обработка пропусков и дублей"
   ]
  },
  {
   "cell_type": "code",
   "execution_count": 18,
   "id": "3ffa361b",
   "metadata": {},
   "outputs": [
    {
     "name": "stdout",
     "output_type": "stream",
     "text": [
      "Missing Values: 4918396\n",
      "В столбце utm_source пропущенных значений 97. Доля пропусков  0.01%\n",
      "В столбце utm_campaign пропущенных значений 219603. Доля пропусков 11.81%\n",
      "В столбце utm_adcontent пропущенных значений 335615. Доля пропусков 18.04%\n",
      "В столбце utm_keyword пропущенных значений 1082061. Доля пропусков 58.17%\n",
      "В столбце device_os пропущенных значений 1070138. Доля пропусков 57.53%\n",
      "В столбце device_brand пропущенных значений 367178. Доля пропусков 19.74%\n",
      "В столбце device_model пропущенных значений 1843704. Доля пропусков 99.12%\n",
      "Duplicates in Data: 0\n"
     ]
    },
    {
     "data": {
      "image/png": "[encoded data removed]",
      "text/plain": [
       "<Figure size 720x432 with 2 Axes>"
      ]
     },
     "metadata": {
      "needs_background": "light"
     },
     "output_type": "display_data"
    }
   ],
   "source": [
    "# Визуальная оценка наличия пропусков\n",
    "# красный - пропущенные данные, серый - ок\n",
    "plt.figure(figsize=(10,6))\n",
    "sns.heatmap(df_sessions.isnull(), cmap=sns.color_palette(['#c0c0c0', '#ff0000']))\n",
    "\n",
    "\n",
    "# Расчет количества и доли пропусков\n",
    "miss = df_sessions.isna().sum().sum()\n",
    "print('Пропущенные значения:', miss)\n",
    "\n",
    "if miss > 0:\n",
    "    for col in df_sessions.columns:\n",
    "        miss = df_sessions[col].isna().sum()\n",
    "        if miss > 0:\n",
    "            print(f'В столбце {col} пропущенных значений {miss}. Доля пропусков {(miss/df_sessions.shape[0]*100):5.2f}%')\n",
    "\n",
    "# Проверка наличия дубликатов в данных\n",
    "print('Дубликаты:', df_sessions.duplicated().sum())"
   ]
  },
  {
   "cell_type": "markdown",
   "id": "8cd52dcc",
   "metadata": {},
   "source": [
    "Дубликатов не обнаружено.\n",
    "\n",
    "Много пропусков. Избавимся от них.\n",
    "Попробуем разные методы:\n",
    "1. замена наиболее часто встречающимся значением\n",
    "2. удаление признаков с большой долей пропусков\n",
    "3. введение отдельной категории для заполнения пропусков\n",
    "4. попытка восстановить значения по значениям других признаков"
   ]
  },
  {
   "cell_type": "markdown",
   "id": "71eee91b",
   "metadata": {},
   "source": [
    "##### В поле utm_source заменим пропуски на часто встречающееся значение"
   ]
  },
  {
   "cell_type": "code",
   "execution_count": 40,
   "id": "ad1b8881",
   "metadata": {},
   "outputs": [],
   "source": [
    "most_frequent_utm_source = df_sessions['utm_source'].mode()\n",
    "impute_utm_source = SimpleImputer(strategy='most_frequent')\n",
    "impute_utm_source.fit(df_sessions[['utm_source']])\n",
    "df_sessions[['utm_source']] = impute_utm_source.transform(df_sessions[['utm_source']])"
   ]
  },
  {
   "cell_type": "markdown",
   "id": "38d706c2",
   "metadata": {},
   "source": [
    "+ В столбце utm_campaign (рекламная кампания) пропущенных значений 219603. Доля пропусков 11.81%\n",
    "+ В столбце utm_adcontent (не нашел в описании, что это за данные) пропущенных значений 335615. Доля пропусков 18.04%\n",
    "+ В столбце utm_keyword пропущенных значений 1 082 061. Доля пропусков 58.17%\n",
    "\n",
    "В боевых условиях для правильной обработки данных столбцов я бы поговорил с хозяином процесса.\n",
    "Полагаю, что замена на часто встречающееся значение может быть ошибкой, так как, например, не все клиенты приходят в результате рекламной компании и незаполненное поле \"utm_campaign\" показывает отдельную категорию клиентов по данному признаку.\n",
    "\n",
    "В данных полях заполню отсутствующие значения новой категорией \"empty\"\n",
    "\n",
    "\n",
    "В полях device_brand и device_os так же заменим пропуски на empty, затем попытаемся частично восстановить значения по другим признакам."
   ]
  },
  {
   "cell_type": "code",
   "execution_count": 41,
   "id": "9f9e0689",
   "metadata": {},
   "outputs": [],
   "source": [
    "impute_empty = SimpleImputer(strategy='constant', fill_value='empty')\n",
    "col_for_empty = ['utm_campaign', 'utm_adcontent', 'utm_keyword', 'device_brand', 'device_os']\n",
    "impute_empty.fit(df_sessions[col_for_empty])\n",
    "df_sessions[col_for_empty] = impute_empty.transform(df_sessions[col_for_empty])"
   ]
  },
  {
   "cell_type": "markdown",
   "id": "0ea01ce1",
   "metadata": {},
   "source": [
    "##### В поле device_brand попробуем восстановить значения по другим признакам. "
   ]
  },
  {
   "cell_type": "code",
   "execution_count": 42,
   "id": "ee57e2e7",
   "metadata": {},
   "outputs": [
    {
     "data": {
      "text/plain": [
       "Apple        551088\n",
       "empty        367178\n",
       "Samsung      332194\n",
       "Xiaomi       288367\n",
       "Huawei       185853\n",
       "Realme        19058\n",
       "(not set)     17545\n",
       "OPPO          13504\n",
       "Vivo          11740\n",
       "OnePlus        9965\n",
       "Name: device_brand, dtype: int64"
      ]
     },
     "execution_count": 42,
     "metadata": {},
     "output_type": "execute_result"
    }
   ],
   "source": [
    "df_sessions['device_brand'].value_counts().head(10)"
   ]
  },
  {
   "cell_type": "markdown",
   "id": "725f8967",
   "metadata": {},
   "source": [
    "Кроме пустых значений в данном поле есть значения \"not set\".\n",
    "\n",
    "В боевых условиях я выяснил бы как появляются такие значения и, в зависимости отрезультата рассматривал бы их либо как нормальные значения, либо как пропуски.\n",
    "\n",
    "Сейчас исхожу из того, что это отдельная категория."
   ]
  },
  {
   "cell_type": "markdown",
   "id": "c8e351ee",
   "metadata": {},
   "source": [
    "##### В поле device_brand попробуем восстановить значения по другим признакам"
   ]
  },
  {
   "cell_type": "code",
   "execution_count": 43,
   "id": "18c2cc00",
   "metadata": {},
   "outputs": [],
   "source": [
    "# Если device_browser == 'Safari' заполняем пропуски значением 'Apple' (более 41 000 записей)\n",
    "df_sessions.loc[(df_sessions.device_brand == 'empty') & (df_sessions.device_browser == 'Safari'), 'device_brand'] = 'Apple'\n",
    "\n",
    "# Если device_os == 'Macintosh' заполняем пропуски значением 'Apple' (более 11 318 записей)\n",
    "df_sessions.loc[(df_sessions.device_brand == 'empty') & (df_sessions.device_os == 'Macintosh'), 'device_brand'] = 'Apple'\n",
    "\n",
    "# Если device_browser == 'Samsung Internet' заполняем пропуски значением 'Samsung' (655 записей)\n",
    "df_sessions.loc[(df_sessions.device_brand == 'empty') & (df_sessions.device_browser == 'Samsung Internet'), 'device_brand'] = 'Samsung'"
   ]
  },
  {
   "cell_type": "markdown",
   "id": "0728a7b7",
   "metadata": {},
   "source": [
    "##### В поле device_os попробуем восстановить значения по другим признакам."
   ]
  },
  {
   "cell_type": "code",
   "execution_count": 44,
   "id": "aaa9b5d2",
   "metadata": {},
   "outputs": [],
   "source": [
    "df_sessions[['device_os']] = impute_empty.fit_transform(df_sessions[['device_os']])\n",
    "\n",
    "# Если device_brand == 'Apple' заполняем пропуски значением 'iOS'\n",
    "df_sessions.loc[(df_sessions.device_os == 'empty') & (df_sessions.device_brand == 'Apple'), 'device_os'] = 'iOS'\n",
    "\n",
    "# Если ddevice_category.isin(['mobile', 'tablet']) заполняем пропуски значением 'Android'\n",
    "df_sessions.loc[(df_sessions.device_os == 'empty') & (df_sessions.device_category.isin(['mobile', 'tablet'])), 'device_os'] = 'Android'\n",
    "                                                      \n",
    "# Если device_category == 'desktop' заполняем пропуски значением 'Windows'\n",
    "df_sessions.loc[(df_sessions.device_os == 'empty') & (df_sessions.device_category == 'desktop'), 'device_os'] = 'Windows'                                                    "
   ]
  },
  {
   "cell_type": "markdown",
   "id": "f5f638f6",
   "metadata": {},
   "source": [
    "##### Удаляем поле с большим количеством пропусков:\n",
    "+ В столбце device_model пропущенных значений 1843704. Доля пропусков 99.12%"
   ]
  },
  {
   "cell_type": "code",
   "execution_count": 45,
   "id": "01bc130c",
   "metadata": {},
   "outputs": [],
   "source": [
    "df_sessions.drop('device_model', axis=1, inplace=True)"
   ]
  },
  {
   "cell_type": "markdown",
   "id": "08d7cf42",
   "metadata": {},
   "source": [
    "##### Убедимся, что пропусков не осталось"
   ]
  },
  {
   "cell_type": "code",
   "execution_count": 46,
   "id": "09fc6759",
   "metadata": {},
   "outputs": [
    {
     "name": "stdout",
     "output_type": "stream",
     "text": [
      "Missing Values: 0\n"
     ]
    }
   ],
   "source": [
    "miss = df_sessions.isna().sum().sum()\n",
    "print('Missing Values:', miss)\n",
    "\n",
    "if miss > 0:\n",
    "    for col in df_sessions.columns:\n",
    "        miss = df_sessions[col].isna().sum()\n",
    "        if miss > 0:\n",
    "            print(f'В столбце {col} пропущенных значений {miss}. Доля пропусков {(miss/df_sessions.shape[0]*100):5.2f}%')"
   ]
  },
  {
   "cell_type": "markdown",
   "id": "7bcf6bc3",
   "metadata": {},
   "source": [
    "## 2. Извлечение целевой переменной из ga_hits.csv\n",
    "#### 2.1. Читаем файл"
   ]
  },
  {
   "cell_type": "code",
   "execution_count": 47,
   "id": "0d5d3634",
   "metadata": {},
   "outputs": [
    {
     "data": {
      "text/html": [
       "<div>\n",
       "<style scoped>\n",
       "    .dataframe tbody tr th:only-of-type {\n",
       "        vertical-align: middle;\n",
       "    }\n",
       "\n",
       "    .dataframe tbody tr th {\n",
       "        vertical-align: top;\n",
       "    }\n",
       "\n",
       "    .dataframe thead th {\n",
       "        text-align: right;\n",
       "    }\n",
       "</style>\n",
       "<table border=\"1\" class=\"dataframe\">\n",
       "  <thead>\n",
       "    <tr style=\"text-align: right;\">\n",
       "      <th></th>\n",
       "      <th>session_id</th>\n",
       "      <th>hit_date</th>\n",
       "      <th>hit_time</th>\n",
       "      <th>hit_number</th>\n",
       "      <th>hit_type</th>\n",
       "      <th>hit_referer</th>\n",
       "      <th>hit_page_path</th>\n",
       "      <th>event_category</th>\n",
       "      <th>event_action</th>\n",
       "      <th>event_label</th>\n",
       "      <th>event_value</th>\n",
       "    </tr>\n",
       "  </thead>\n",
       "  <tbody>\n",
       "    <tr>\n",
       "      <th>0</th>\n",
       "      <td>5639623078712724064.1640254056.1640254056</td>\n",
       "      <td>2021-12-23</td>\n",
       "      <td>597864.0</td>\n",
       "      <td>30</td>\n",
       "      <td>event</td>\n",
       "      <td>NaN</td>\n",
       "      <td>sberauto.com/cars?utm_source_initial=google&amp;ut...</td>\n",
       "      <td>quiz</td>\n",
       "      <td>quiz_show</td>\n",
       "      <td>NaN</td>\n",
       "      <td>NaN</td>\n",
       "    </tr>\n",
       "    <tr>\n",
       "      <th>1</th>\n",
       "      <td>7750352294969115059.1640271109.1640271109</td>\n",
       "      <td>2021-12-23</td>\n",
       "      <td>597331.0</td>\n",
       "      <td>41</td>\n",
       "      <td>event</td>\n",
       "      <td>NaN</td>\n",
       "      <td>sberauto.com/cars/fiat?city=1&amp;city=18&amp;rental_c...</td>\n",
       "      <td>quiz</td>\n",
       "      <td>quiz_show</td>\n",
       "      <td>NaN</td>\n",
       "      <td>NaN</td>\n",
       "    </tr>\n",
       "    <tr>\n",
       "      <th>2</th>\n",
       "      <td>885342191847998240.1640235807.1640235807</td>\n",
       "      <td>2021-12-23</td>\n",
       "      <td>796252.0</td>\n",
       "      <td>49</td>\n",
       "      <td>event</td>\n",
       "      <td>NaN</td>\n",
       "      <td>sberauto.com/cars/all/volkswagen/polo/e994838f...</td>\n",
       "      <td>quiz</td>\n",
       "      <td>quiz_show</td>\n",
       "      <td>NaN</td>\n",
       "      <td>NaN</td>\n",
       "    </tr>\n",
       "    <tr>\n",
       "      <th>3</th>\n",
       "      <td>142526202120934167.1640211014.1640211014</td>\n",
       "      <td>2021-12-23</td>\n",
       "      <td>934292.0</td>\n",
       "      <td>46</td>\n",
       "      <td>event</td>\n",
       "      <td>NaN</td>\n",
       "      <td>sberauto.com/cars?utm_source_initial=yandex&amp;ut...</td>\n",
       "      <td>quiz</td>\n",
       "      <td>quiz_show</td>\n",
       "      <td>NaN</td>\n",
       "      <td>NaN</td>\n",
       "    </tr>\n",
       "    <tr>\n",
       "      <th>4</th>\n",
       "      <td>3450086108837475701.1640265078.1640265078</td>\n",
       "      <td>2021-12-23</td>\n",
       "      <td>768741.0</td>\n",
       "      <td>79</td>\n",
       "      <td>event</td>\n",
       "      <td>NaN</td>\n",
       "      <td>sberauto.com/cars/all/mercedes-benz/cla-klasse...</td>\n",
       "      <td>quiz</td>\n",
       "      <td>quiz_show</td>\n",
       "      <td>NaN</td>\n",
       "      <td>NaN</td>\n",
       "    </tr>\n",
       "  </tbody>\n",
       "</table>\n",
       "</div>"
      ],
      "text/plain": [
       "                                  session_id    hit_date  hit_time  \\\n",
       "0  5639623078712724064.1640254056.1640254056  2021-12-23  597864.0   \n",
       "1  7750352294969115059.1640271109.1640271109  2021-12-23  597331.0   \n",
       "2   885342191847998240.1640235807.1640235807  2021-12-23  796252.0   \n",
       "3   142526202120934167.1640211014.1640211014  2021-12-23  934292.0   \n",
       "4  3450086108837475701.1640265078.1640265078  2021-12-23  768741.0   \n",
       "\n",
       "   hit_number hit_type hit_referer  \\\n",
       "0          30    event         NaN   \n",
       "1          41    event         NaN   \n",
       "2          49    event         NaN   \n",
       "3          46    event         NaN   \n",
       "4          79    event         NaN   \n",
       "\n",
       "                                       hit_page_path event_category  \\\n",
       "0  sberauto.com/cars?utm_source_initial=google&ut...           quiz   \n",
       "1  sberauto.com/cars/fiat?city=1&city=18&rental_c...           quiz   \n",
       "2  sberauto.com/cars/all/volkswagen/polo/e994838f...           quiz   \n",
       "3  sberauto.com/cars?utm_source_initial=yandex&ut...           quiz   \n",
       "4  sberauto.com/cars/all/mercedes-benz/cla-klasse...           quiz   \n",
       "\n",
       "  event_action event_label  event_value  \n",
       "0    quiz_show         NaN          NaN  \n",
       "1    quiz_show         NaN          NaN  \n",
       "2    quiz_show         NaN          NaN  \n",
       "3    quiz_show         NaN          NaN  \n",
       "4    quiz_show         NaN          NaN  "
      ]
     },
     "execution_count": 47,
     "metadata": {},
     "output_type": "execute_result"
    }
   ],
   "source": [
    "df_hits = pd.read_csv('d:/Python/SB/final_project/data/ga_hits.csv')\n",
    "df_hits.head()"
   ]
  },
  {
   "cell_type": "code",
   "execution_count": 6,
   "id": "f2ee1be9",
   "metadata": {},
   "outputs": [
    {
     "name": "stdout",
     "output_type": "stream",
     "text": [
      "<class 'pandas.core.frame.DataFrame'>\n",
      "RangeIndex: 15726470 entries, 0 to 15726469\n",
      "Data columns (total 11 columns):\n",
      " #   Column          Dtype  \n",
      "---  ------          -----  \n",
      " 0   session_id      object \n",
      " 1   hit_date        object \n",
      " 2   hit_time        float64\n",
      " 3   hit_number      int64  \n",
      " 4   hit_type        object \n",
      " 5   hit_referer     object \n",
      " 6   hit_page_path   object \n",
      " 7   event_category  object \n",
      " 8   event_action    object \n",
      " 9   event_label     object \n",
      " 10  event_value     float64\n",
      "dtypes: float64(2), int64(1), object(8)\n",
      "memory usage: 1.3+ GB\n"
     ]
    }
   ],
   "source": [
    "df_hits.info()"
   ]
  },
  {
   "cell_type": "markdown",
   "id": "13d375f5",
   "metadata": {},
   "source": [
    "#### 2.2 Проверяем количество уникальных сессий"
   ]
  },
  {
   "cell_type": "code",
   "execution_count": 48,
   "id": "fe1e0336",
   "metadata": {},
   "outputs": [
    {
     "name": "stdout",
     "output_type": "stream",
     "text": [
      "1734610\n"
     ]
    },
    {
     "data": {
      "text/plain": [
       "(15726470, 11)"
      ]
     },
     "execution_count": 48,
     "metadata": {},
     "output_type": "execute_result"
    }
   ],
   "source": [
    "print(df_hits.session_id.nunique())\n",
    "df_hits.shape"
   ]
  },
  {
   "cell_type": "markdown",
   "id": "d1076c7c",
   "metadata": {},
   "source": [
    "В файле ga_sessions.csv 1 860 042 записей\n",
    "В файле ga_hits.csv есть записи только о 1 734 610 сессиях.\n",
    "По 125 432 сессий нет записей о событиях.\n",
    "\n",
    "В \"боевых\" уcловиях я бы поговорил со специалистами, обеспечивающими сбор данных и действовал в зависимости от причины:\n",
    "* В ходе данных сессий не было никаких событий - присвоил им target=0.\n",
    "* Информация об этих сессиях отсутствует по какой-либо причине:\n",
    "    + План А найти информацию и дополнить датасет\n",
    "    + План Б исключить их из дальнейшего рассмотрения\n",
    "\n",
    "Для дальнейшей работы выбираю вариант с исключением данных сессий из рассмотрения."
   ]
  },
  {
   "cell_type": "markdown",
   "id": "d60457e6",
   "metadata": {},
   "source": [
    "#### 2.3. Сформируем целевой признак"
   ]
  },
  {
   "cell_type": "code",
   "execution_count": 49,
   "id": "71a14239",
   "metadata": {},
   "outputs": [
    {
     "name": "stdout",
     "output_type": "stream",
     "text": [
      "0    1683850\n",
      "1      27406\n",
      "3      11316\n",
      "2       7006\n",
      "4       2561\n",
      "6        836\n",
      "5        828\n",
      "7        223\n",
      "8        136\n",
      "9        111\n",
      "Name: target, dtype: int64\n"
     ]
    },
    {
     "data": {
      "text/plain": [
       "50760"
      ]
     },
     "execution_count": 49,
     "metadata": {},
     "output_type": "execute_result"
    }
   ],
   "source": [
    "df_hits['target'] = df_hits.event_action.isin(['sub_car_claim_click', 'sub_car_claim_submit_click',\n",
    "                                               'sub_open_dialog_click', 'sub_custom_question_submit_click',\n",
    "                                               'sub_call_number_click', 'sub_callback_submit_click',\n",
    "                                               'sub_submit_success','sub_car_request_submit_click'])\n",
    "pivot = df_hits.pivot_table(index=\"session_id\", values=\"target\", aggfunc=np.sum)\n",
    "\n",
    "print(pivot.target.value_counts().head(10))\n",
    "\n",
    "pivot['target'] = pivot['target'] > 0\n",
    "pivot['target'].sum()"
   ]
  },
  {
   "cell_type": "code",
   "execution_count": null,
   "id": "547965f7",
   "metadata": {},
   "outputs": [],
   "source": []
  },
  {
   "cell_type": "markdown",
   "id": "c2b0ddb0",
   "metadata": {},
   "source": [
    "## 3. Объединение даных в один датасет и его обработка\n",
    "### 3.1. Объединение данных"
   ]
  },
  {
   "cell_type": "code",
   "execution_count": 50,
   "id": "dc5b9e3b",
   "metadata": {},
   "outputs": [
    {
     "name": "stdout",
     "output_type": "stream",
     "text": [
      "Размер датасета: (1732266, 15)\n",
      "Записей с классом 1: 127379\n"
     ]
    },
    {
     "data": {
      "text/html": [
       "<div>\n",
       "<style scoped>\n",
       "    .dataframe tbody tr th:only-of-type {\n",
       "        vertical-align: middle;\n",
       "    }\n",
       "\n",
       "    .dataframe tbody tr th {\n",
       "        vertical-align: top;\n",
       "    }\n",
       "\n",
       "    .dataframe thead th {\n",
       "        text-align: right;\n",
       "    }\n",
       "</style>\n",
       "<table border=\"1\" class=\"dataframe\">\n",
       "  <thead>\n",
       "    <tr style=\"text-align: right;\">\n",
       "      <th></th>\n",
       "      <th>session_id</th>\n",
       "      <th>client_id</th>\n",
       "      <th>utm_source</th>\n",
       "      <th>utm_medium</th>\n",
       "      <th>utm_campaign</th>\n",
       "      <th>utm_adcontent</th>\n",
       "      <th>utm_keyword</th>\n",
       "      <th>device_category</th>\n",
       "      <th>device_os</th>\n",
       "      <th>device_brand</th>\n",
       "      <th>device_screen_resolution</th>\n",
       "      <th>device_browser</th>\n",
       "      <th>geo_country</th>\n",
       "      <th>geo_city</th>\n",
       "      <th>target</th>\n",
       "    </tr>\n",
       "  </thead>\n",
       "  <tbody>\n",
       "    <tr>\n",
       "      <th>0</th>\n",
       "      <td>9055434745589932991.1637753792.1637753792</td>\n",
       "      <td>2108382700.163776</td>\n",
       "      <td>ZpYIoDJMcFzVoPFsHGJL</td>\n",
       "      <td>banner</td>\n",
       "      <td>LEoPHuyFvzoNfnzGgfcd</td>\n",
       "      <td>vCIpmpaGBnIQhyYNkXqp</td>\n",
       "      <td>puhZPIYqKXeFPaUviSjo</td>\n",
       "      <td>mobile</td>\n",
       "      <td>Android</td>\n",
       "      <td>Huawei</td>\n",
       "      <td>360x720</td>\n",
       "      <td>Chrome</td>\n",
       "      <td>Russia</td>\n",
       "      <td>Zlatoust</td>\n",
       "      <td>False</td>\n",
       "    </tr>\n",
       "    <tr>\n",
       "      <th>1</th>\n",
       "      <td>905544597018549464.1636867290.1636867290</td>\n",
       "      <td>210838531.163687</td>\n",
       "      <td>MvfHsxITijuriZxsqZqt</td>\n",
       "      <td>cpm</td>\n",
       "      <td>FTjNLDyTrXaWYgZymFkV</td>\n",
       "      <td>xhoenQgDQsgfEPYNPwKO</td>\n",
       "      <td>IGUCNvHlhfHpROGclCit</td>\n",
       "      <td>mobile</td>\n",
       "      <td>Android</td>\n",
       "      <td>Samsung</td>\n",
       "      <td>385x854</td>\n",
       "      <td>Samsung Internet</td>\n",
       "      <td>Russia</td>\n",
       "      <td>Moscow</td>\n",
       "      <td>False</td>\n",
       "    </tr>\n",
       "    <tr>\n",
       "      <th>2</th>\n",
       "      <td>9055446045651783499.1640648526.1640648526</td>\n",
       "      <td>2108385331.164065</td>\n",
       "      <td>ZpYIoDJMcFzVoPFsHGJL</td>\n",
       "      <td>banner</td>\n",
       "      <td>LEoPHuyFvzoNfnzGgfcd</td>\n",
       "      <td>vCIpmpaGBnIQhyYNkXqp</td>\n",
       "      <td>puhZPIYqKXeFPaUviSjo</td>\n",
       "      <td>mobile</td>\n",
       "      <td>Android</td>\n",
       "      <td>Huawei</td>\n",
       "      <td>360x720</td>\n",
       "      <td>Chrome</td>\n",
       "      <td>Russia</td>\n",
       "      <td>Krasnoyarsk</td>\n",
       "      <td>False</td>\n",
       "    </tr>\n",
       "    <tr>\n",
       "      <th>3</th>\n",
       "      <td>9055447046360770272.1622255328.1622255328</td>\n",
       "      <td>2108385564.162225</td>\n",
       "      <td>kjsLglQLzykiRbcDiGcD</td>\n",
       "      <td>cpc</td>\n",
       "      <td>empty</td>\n",
       "      <td>NOBKLgtuvqYWkXQHeYWM</td>\n",
       "      <td>empty</td>\n",
       "      <td>mobile</td>\n",
       "      <td>Android</td>\n",
       "      <td>Xiaomi</td>\n",
       "      <td>393x786</td>\n",
       "      <td>Chrome</td>\n",
       "      <td>Russia</td>\n",
       "      <td>Moscow</td>\n",
       "      <td>False</td>\n",
       "    </tr>\n",
       "    <tr>\n",
       "      <th>4</th>\n",
       "      <td>9055447046360770272.1622255345.1622255345</td>\n",
       "      <td>2108385564.162225</td>\n",
       "      <td>kjsLglQLzykiRbcDiGcD</td>\n",
       "      <td>cpc</td>\n",
       "      <td>empty</td>\n",
       "      <td>empty</td>\n",
       "      <td>empty</td>\n",
       "      <td>mobile</td>\n",
       "      <td>Android</td>\n",
       "      <td>Xiaomi</td>\n",
       "      <td>393x786</td>\n",
       "      <td>Chrome</td>\n",
       "      <td>Russia</td>\n",
       "      <td>Moscow</td>\n",
       "      <td>False</td>\n",
       "    </tr>\n",
       "  </tbody>\n",
       "</table>\n",
       "</div>"
      ],
      "text/plain": [
       "                                  session_id          client_id  \\\n",
       "0  9055434745589932991.1637753792.1637753792  2108382700.163776   \n",
       "1   905544597018549464.1636867290.1636867290   210838531.163687   \n",
       "2  9055446045651783499.1640648526.1640648526  2108385331.164065   \n",
       "3  9055447046360770272.1622255328.1622255328  2108385564.162225   \n",
       "4  9055447046360770272.1622255345.1622255345  2108385564.162225   \n",
       "\n",
       "             utm_source utm_medium          utm_campaign  \\\n",
       "0  ZpYIoDJMcFzVoPFsHGJL     banner  LEoPHuyFvzoNfnzGgfcd   \n",
       "1  MvfHsxITijuriZxsqZqt        cpm  FTjNLDyTrXaWYgZymFkV   \n",
       "2  ZpYIoDJMcFzVoPFsHGJL     banner  LEoPHuyFvzoNfnzGgfcd   \n",
       "3  kjsLglQLzykiRbcDiGcD        cpc                 empty   \n",
       "4  kjsLglQLzykiRbcDiGcD        cpc                 empty   \n",
       "\n",
       "          utm_adcontent           utm_keyword device_category device_os  \\\n",
       "0  vCIpmpaGBnIQhyYNkXqp  puhZPIYqKXeFPaUviSjo          mobile   Android   \n",
       "1  xhoenQgDQsgfEPYNPwKO  IGUCNvHlhfHpROGclCit          mobile   Android   \n",
       "2  vCIpmpaGBnIQhyYNkXqp  puhZPIYqKXeFPaUviSjo          mobile   Android   \n",
       "3  NOBKLgtuvqYWkXQHeYWM                 empty          mobile   Android   \n",
       "4                 empty                 empty          mobile   Android   \n",
       "\n",
       "  device_brand device_screen_resolution    device_browser geo_country  \\\n",
       "0       Huawei                  360x720            Chrome      Russia   \n",
       "1      Samsung                  385x854  Samsung Internet      Russia   \n",
       "2       Huawei                  360x720            Chrome      Russia   \n",
       "3       Xiaomi                  393x786            Chrome      Russia   \n",
       "4       Xiaomi                  393x786            Chrome      Russia   \n",
       "\n",
       "      geo_city  target  \n",
       "0     Zlatoust   False  \n",
       "1       Moscow   False  \n",
       "2  Krasnoyarsk   False  \n",
       "3       Moscow   False  \n",
       "4       Moscow   False  "
      ]
     },
     "execution_count": 50,
     "metadata": {},
     "output_type": "execute_result"
    }
   ],
   "source": [
    "df_full = df_sessions.merge(pivot, how='inner', on='session_id')\n",
    "\n",
    "# Формируем таргет по клиенту\n",
    "good_client = df_full[df_full.target == 1]['client_id']\n",
    "df_full['target'] = df_full['client_id'].isin(good_client)\n",
    "\n",
    "print('Размер датасета:', df_full.shape)\n",
    "print('Записей с классом 1:', df_full.target.sum())\n",
    "df_full.head()"
   ]
  },
  {
   "cell_type": "markdown",
   "id": "c684203a",
   "metadata": {},
   "source": [
    "Получено 1 732 266 записей.\n",
    "Т.е. в файле ga_hits.csv есть записи о действиях, для которых нет соответствующих записей о сессиях в ga_sessions.csv.\n",
    "\n",
    "\n",
    "В \"боевых\" условиях я провел бы расследование. Как минимум обсудил бы с хозяином данных возможные причины."
   ]
  },
  {
   "cell_type": "markdown",
   "id": "6bdf37f5",
   "metadata": {},
   "source": [
    "### 3.2. сформируем новые признаки 'organic_traffic' и 'social_media_advertising'"
   ]
  },
  {
   "cell_type": "code",
   "execution_count": 51,
   "id": "194341c0",
   "metadata": {},
   "outputs": [
    {
     "data": {
      "image/png": "[encoded data removed]",
      "text/plain": [
       "<Figure size 720x432 with 2 Axes>"
      ]
     },
     "metadata": {},
     "output_type": "display_data"
    }
   ],
   "source": [
    "df_full['organic_traffic'] = df_full['utm_medium'].isin(['organic', 'referral', '(none)'])\n",
    "\n",
    "df_full['social_media_advertising'] = df_full['utm_source'].isin(\n",
    "    ['QxAxdyPLuQMEcrdZWdWb', 'MvfHsxITijuriZxsqZqt', 'ISrKoXQCxqqYvAZICvjs', \n",
    "     'IZEXUFLARCUMynmHNBGo', 'PlbkrSYoHuZBWfYjYnfw', 'gVRrcxiDQubJiljoTbGm'])\n",
    "\n",
    "i = 1\n",
    "plt.figure(figsize=(10,6))\n",
    "for cl in ['organic_traffic', 'social_media_advertising']:\n",
    "    stats = df_full.groupby([cl], as_index=False)[['session_id']].count()\n",
    "    stats = stats.rename(columns={'session_id': 'count'})\n",
    "    plt.subplot(1, 2, i)\n",
    "    i += 1\n",
    "    plt.pie(stats['count'], labels=stats[cl], autopct='%.1f')\n",
    "    plt.title(f\"Распределение {cl} (%)\")\n",
    "plt.show();"
   ]
  },
  {
   "cell_type": "code",
   "execution_count": null,
   "id": "9c39ea1a",
   "metadata": {},
   "outputs": [],
   "source": []
  },
  {
   "cell_type": "markdown",
   "id": "7f3f73c8",
   "metadata": {},
   "source": [
    "### Не запускать! Начало блока"
   ]
  },
  {
   "cell_type": "code",
   "execution_count": 52,
   "id": "eb2c34d3",
   "metadata": {},
   "outputs": [],
   "source": [
    "# Сохраняем файл с таргетом по клиенту\n",
    "df_full.to_csv('e:\\df_full2.csv')"
   ]
  },
  {
   "cell_type": "code",
   "execution_count": 3,
   "id": "6f9cbf45",
   "metadata": {},
   "outputs": [],
   "source": [
    "# работаем с таргетом по клиентам\n",
    "df_full = pd.read_csv('e:\\df_full2.csv')\n",
    "df_full.rename(columns = {'Unnamed: 0' : 'Index'}, inplace = True)\n",
    "df_full.set_index('Index', inplace=True)"
   ]
  },
  {
   "cell_type": "markdown",
   "id": "1d65d43e",
   "metadata": {},
   "source": [
    "### Не запускать! Конец блока"
   ]
  },
  {
   "cell_type": "code",
   "execution_count": null,
   "id": "1eddf477",
   "metadata": {},
   "outputs": [],
   "source": []
  },
  {
   "cell_type": "markdown",
   "id": "f401d25c",
   "metadata": {},
   "source": [
    "## 4. Моделирование"
   ]
  },
  {
   "cell_type": "code",
   "execution_count": 56,
   "id": "acbe0bf6",
   "metadata": {},
   "outputs": [],
   "source": [
    "x_train, x_test, y_train, y_test = train_test_split(df_full.drop(['target', 'session_id', 'client_id'], axis=1), df_full['target'], test_size=0.3, random_state = 42)\n",
    "cat_features = list(x_train.columns)\n",
    "cat_features.remove('organic_traffic')\n",
    "cat_features.remove('social_media_advertising')"
   ]
  },
  {
   "cell_type": "markdown",
   "id": "042135ac",
   "metadata": {},
   "source": [
    "### 4.1. Запустим модель с параметрами по умолчанию"
   ]
  },
  {
   "cell_type": "code",
   "execution_count": 54,
   "id": "3c5f94d5",
   "metadata": {},
   "outputs": [
    {
     "name": "stdout",
     "output_type": "stream",
     "text": [
      "0.8501910971969776 0.9394987242142001\n",
      "0.8089571272124839 0.9349542025862069\n",
      "precision: 0.8078697421981004\n",
      "recall: 0.15529068099423593\n",
      "f1_score: 0.26050622388484174\n",
      "roc_auc: 0.8089571272124839\n",
      "Wall time: 4min 48s\n"
     ]
    },
    {
     "data": {
      "image/png": "[encoded data removed]",
      "text/plain": [
       "<Figure size 432x288 with 2 Axes>"
      ]
     },
     "metadata": {
      "needs_background": "light"
     },
     "output_type": "display_data"
    }
   ],
   "source": [
    "%%time\n",
    "from catboost import CatBoostClassifier\n",
    "model = CatBoostClassifier(    \n",
    "    task_type=\"GPU\",\n",
    "    devices='0:1'\n",
    ")\n",
    "model.fit(\n",
    "    x_train, y_train,\n",
    "    cat_features=cat_features,\n",
    "    verbose = False\n",
    ")\n",
    "\n",
    "\n",
    "train_pred = model.predict_proba(x_train)[:,1]\n",
    "test_pred = model.predict_proba(x_test)[:,1]\n",
    "\n",
    "print(roc_auc_score(y_train, train_pred), accuracy_score(y_train, train_pred>0.5))\n",
    "print(roc_auc_score(y_test, test_pred), accuracy_score(y_test, test_pred>0.5))\n",
    "\n",
    "metrics(y_test, test_pred)"
   ]
  },
  {
   "cell_type": "markdown",
   "id": "3e092e7d",
   "metadata": {},
   "source": [
    "Выводы:\n",
    "+ Получены высокие ROC-AUC и  accuracy\n",
    "+ Очень низкий recall - плохое распозначание класса \"1\" (менее 16% распознано правильно)\n",
    "+ Высокий precision, почти все объекты класса \"0\" распознаны правильно\n",
    "+ Такие результаты типичны для ситуации с сильным дисбалансом классов\n",
    "\n",
    "В CatBoostClassifier параметр class_weights позволяет устранить эффект от дисбаланса. Попробую изменять его и посмотрю, как это повлияет на качество."
   ]
  },
  {
   "cell_type": "markdown",
   "id": "5871c347",
   "metadata": {},
   "source": [
    "### 4.2. Подбор оптимального class_weights "
   ]
  },
  {
   "cell_type": "code",
   "execution_count": 9,
   "id": "0c7ece6d",
   "metadata": {},
   "outputs": [
    {
     "name": "stdout",
     "output_type": "stream",
     "text": [
      "Wall time: 1h 12min 21s\n"
     ]
    },
    {
     "data": {
      "text/html": [
       "<div>\n",
       "<style scoped>\n",
       "    .dataframe tbody tr th:only-of-type {\n",
       "        vertical-align: middle;\n",
       "    }\n",
       "\n",
       "    .dataframe tbody tr th {\n",
       "        vertical-align: top;\n",
       "    }\n",
       "\n",
       "    .dataframe thead th {\n",
       "        text-align: right;\n",
       "    }\n",
       "</style>\n",
       "<table border=\"1\" class=\"dataframe\">\n",
       "  <thead>\n",
       "    <tr style=\"text-align: right;\">\n",
       "      <th></th>\n",
       "      <th>i</th>\n",
       "      <th>accuracy</th>\n",
       "      <th>precision</th>\n",
       "      <th>recall</th>\n",
       "      <th>f1_score</th>\n",
       "      <th>roc_auc</th>\n",
       "      <th>check</th>\n",
       "    </tr>\n",
       "  </thead>\n",
       "  <tbody>\n",
       "    <tr>\n",
       "      <th>4</th>\n",
       "      <td>5.0</td>\n",
       "      <td>0.905929</td>\n",
       "      <td>0.374758</td>\n",
       "      <td>0.398135</td>\n",
       "      <td>0.386093</td>\n",
       "      <td>0.808564</td>\n",
       "      <td>0.057607</td>\n",
       "    </tr>\n",
       "  </tbody>\n",
       "</table>\n",
       "</div>"
      ],
      "text/plain": [
       "     i  accuracy  precision    recall  f1_score   roc_auc     check\n",
       "4  5.0  0.905929   0.374758  0.398135  0.386093  0.808564  0.057607"
      ]
     },
     "execution_count": 9,
     "metadata": {},
     "output_type": "execute_result"
    }
   ],
   "source": [
    "%%time\n",
    "\n",
    "x_train, x_test, y_train, y_test = train_test_split(df_full.drop(['target', 'session_id', 'client_id'], axis=1), df_full['target'], test_size=0.3, random_state = 42)\n",
    "cat_features = list(x_train.columns)\n",
    "cat_features.remove('organic_traffic')\n",
    "cat_features.remove('social_media_advertising')\n",
    "\n",
    "results_train = pd.DataFrame(columns=['i', 'accuracy', 'precision', 'recall', 'f1', 'roc_auc'])\n",
    "results_val = pd.DataFrame(columns=['i', 'accuracy', 'precision', 'recall', 'f1_score', 'roc_auc'])\n",
    "\n",
    "# Разбиваю train на тренировочные и валидационные, что бы не подбирать параметры на test\n",
    "x_train_v, x_val, y_train_v, y_val = train_test_split(x_train, y_train, test_size=0.2, random_state = 42)\n",
    "\n",
    "for i in range(1, 21):\n",
    "    model = CatBoostClassifier(\n",
    "        class_weights = (1, i),\n",
    "        task_type=\"GPU\",\n",
    "        devices='0:1'\n",
    "    )\n",
    "    \n",
    "    model.fit(\n",
    "        x_train_v, y_train_v,\n",
    "        cat_features=cat_features,\n",
    "        verbose = False\n",
    "    )\n",
    "    \n",
    "    train_pred = model.predict_proba(x_train_v)[:,1]\n",
    "    test_pred = model.predict_proba(x_val)[:,1]\n",
    "    \n",
    "    accuracy = accuracy_score(y_train_v, train_pred>0.5)\n",
    "    precision = precision_score(y_train_v, train_pred>0.5)\n",
    "    recall = recall_score(y_train_v, train_pred>0.5)\n",
    "    f1 = f1_score(y_train_v, train_pred>0.5)    \n",
    "    roc_auc = roc_auc_score(y_train_v, train_pred)\n",
    "    \n",
    "    results_train.loc[len(results_train.index)] = [i, accuracy, precision, recall, f1, roc_auc]    \n",
    "    \n",
    "    accuracy = accuracy_score(y_val, test_pred>0.5)\n",
    "    precision = precision_score(y_val, test_pred>0.5)\n",
    "    recall = recall_score(y_val, test_pred>0.5)\n",
    "    f1 = f1_score(y_val, test_pred>0.5)    \n",
    "    roc_auc = roc_auc_score(y_val, test_pred)\n",
    "    results_val.loc[len(results_val.index)] = [i, accuracy, precision, recall, f1, roc_auc]\n",
    "    \n",
    "results_val['check'] = results_val['precision'] * results_val['recall'] * results_val['f1_score']\n",
    "results_val['check'].max()\n",
    "results_val[results_val['check'] == results_val['check'].max()]"
   ]
  },
  {
   "cell_type": "code",
   "execution_count": 15,
   "id": "408d7d21",
   "metadata": {},
   "outputs": [
    {
     "data": {
      "text/html": [
       "<div>\n",
       "<style scoped>\n",
       "    .dataframe tbody tr th:only-of-type {\n",
       "        vertical-align: middle;\n",
       "    }\n",
       "\n",
       "    .dataframe tbody tr th {\n",
       "        vertical-align: top;\n",
       "    }\n",
       "\n",
       "    .dataframe thead th {\n",
       "        text-align: right;\n",
       "    }\n",
       "</style>\n",
       "<table border=\"1\" class=\"dataframe\">\n",
       "  <thead>\n",
       "    <tr style=\"text-align: right;\">\n",
       "      <th></th>\n",
       "      <th>i</th>\n",
       "      <th>accuracy</th>\n",
       "      <th>precision</th>\n",
       "      <th>recall</th>\n",
       "      <th>f1_score</th>\n",
       "      <th>roc_auc</th>\n",
       "    </tr>\n",
       "  </thead>\n",
       "  <tbody>\n",
       "    <tr>\n",
       "      <th>0</th>\n",
       "      <td>1.0</td>\n",
       "      <td>0.933898</td>\n",
       "      <td>0.802864</td>\n",
       "      <td>0.146235</td>\n",
       "      <td>0.247406</td>\n",
       "      <td>0.804116</td>\n",
       "    </tr>\n",
       "    <tr>\n",
       "      <th>1</th>\n",
       "      <td>2.0</td>\n",
       "      <td>0.931716</td>\n",
       "      <td>0.608670</td>\n",
       "      <td>0.226761</td>\n",
       "      <td>0.330422</td>\n",
       "      <td>0.806824</td>\n",
       "    </tr>\n",
       "    <tr>\n",
       "      <th>2</th>\n",
       "      <td>3.0</td>\n",
       "      <td>0.924401</td>\n",
       "      <td>0.485774</td>\n",
       "      <td>0.298463</td>\n",
       "      <td>0.369749</td>\n",
       "      <td>0.807842</td>\n",
       "    </tr>\n",
       "    <tr>\n",
       "      <th>3</th>\n",
       "      <td>4.0</td>\n",
       "      <td>0.916192</td>\n",
       "      <td>0.422773</td>\n",
       "      <td>0.350297</td>\n",
       "      <td>0.383138</td>\n",
       "      <td>0.808219</td>\n",
       "    </tr>\n",
       "    <tr>\n",
       "      <th>4</th>\n",
       "      <td>5.0</td>\n",
       "      <td>0.905929</td>\n",
       "      <td>0.374758</td>\n",
       "      <td>0.398135</td>\n",
       "      <td>0.386093</td>\n",
       "      <td>0.808564</td>\n",
       "    </tr>\n",
       "    <tr>\n",
       "      <th>5</th>\n",
       "      <td>6.0</td>\n",
       "      <td>0.890627</td>\n",
       "      <td>0.328273</td>\n",
       "      <td>0.451190</td>\n",
       "      <td>0.380040</td>\n",
       "      <td>0.808628</td>\n",
       "    </tr>\n",
       "    <tr>\n",
       "      <th>6</th>\n",
       "      <td>7.0</td>\n",
       "      <td>0.872026</td>\n",
       "      <td>0.290204</td>\n",
       "      <td>0.499639</td>\n",
       "      <td>0.367155</td>\n",
       "      <td>0.808621</td>\n",
       "    </tr>\n",
       "    <tr>\n",
       "      <th>7</th>\n",
       "      <td>8.0</td>\n",
       "      <td>0.843921</td>\n",
       "      <td>0.251634</td>\n",
       "      <td>0.557578</td>\n",
       "      <td>0.346771</td>\n",
       "      <td>0.808430</td>\n",
       "    </tr>\n",
       "    <tr>\n",
       "      <th>8</th>\n",
       "      <td>9.0</td>\n",
       "      <td>0.816125</td>\n",
       "      <td>0.225917</td>\n",
       "      <td>0.607803</td>\n",
       "      <td>0.329398</td>\n",
       "      <td>0.808515</td>\n",
       "    </tr>\n",
       "    <tr>\n",
       "      <th>9</th>\n",
       "      <td>10.0</td>\n",
       "      <td>0.781468</td>\n",
       "      <td>0.202666</td>\n",
       "      <td>0.661579</td>\n",
       "      <td>0.310281</td>\n",
       "      <td>0.808535</td>\n",
       "    </tr>\n",
       "    <tr>\n",
       "      <th>10</th>\n",
       "      <td>11.0</td>\n",
       "      <td>0.761609</td>\n",
       "      <td>0.192337</td>\n",
       "      <td>0.690327</td>\n",
       "      <td>0.300851</td>\n",
       "      <td>0.808570</td>\n",
       "    </tr>\n",
       "    <tr>\n",
       "      <th>11</th>\n",
       "      <td>12.0</td>\n",
       "      <td>0.745264</td>\n",
       "      <td>0.184110</td>\n",
       "      <td>0.707697</td>\n",
       "      <td>0.292202</td>\n",
       "      <td>0.808452</td>\n",
       "    </tr>\n",
       "    <tr>\n",
       "      <th>12</th>\n",
       "      <td>13.0</td>\n",
       "      <td>0.729554</td>\n",
       "      <td>0.177170</td>\n",
       "      <td>0.724402</td>\n",
       "      <td>0.284708</td>\n",
       "      <td>0.808118</td>\n",
       "    </tr>\n",
       "    <tr>\n",
       "      <th>13</th>\n",
       "      <td>14.0</td>\n",
       "      <td>0.712479</td>\n",
       "      <td>0.170880</td>\n",
       "      <td>0.744991</td>\n",
       "      <td>0.277996</td>\n",
       "      <td>0.808455</td>\n",
       "    </tr>\n",
       "    <tr>\n",
       "      <th>14</th>\n",
       "      <td>15.0</td>\n",
       "      <td>0.695783</td>\n",
       "      <td>0.165011</td>\n",
       "      <td>0.762140</td>\n",
       "      <td>0.271285</td>\n",
       "      <td>0.808589</td>\n",
       "    </tr>\n",
       "    <tr>\n",
       "      <th>15</th>\n",
       "      <td>16.0</td>\n",
       "      <td>0.679785</td>\n",
       "      <td>0.159723</td>\n",
       "      <td>0.776791</td>\n",
       "      <td>0.264964</td>\n",
       "      <td>0.808521</td>\n",
       "    </tr>\n",
       "    <tr>\n",
       "      <th>16</th>\n",
       "      <td>17.0</td>\n",
       "      <td>0.655110</td>\n",
       "      <td>0.152181</td>\n",
       "      <td>0.796715</td>\n",
       "      <td>0.255549</td>\n",
       "      <td>0.808108</td>\n",
       "    </tr>\n",
       "    <tr>\n",
       "      <th>17</th>\n",
       "      <td>18.0</td>\n",
       "      <td>0.637907</td>\n",
       "      <td>0.147340</td>\n",
       "      <td>0.809146</td>\n",
       "      <td>0.249286</td>\n",
       "      <td>0.808088</td>\n",
       "    </tr>\n",
       "    <tr>\n",
       "      <th>18</th>\n",
       "      <td>19.0</td>\n",
       "      <td>0.617393</td>\n",
       "      <td>0.142112</td>\n",
       "      <td>0.823853</td>\n",
       "      <td>0.242409</td>\n",
       "      <td>0.808184</td>\n",
       "    </tr>\n",
       "    <tr>\n",
       "      <th>19</th>\n",
       "      <td>20.0</td>\n",
       "      <td>0.600050</td>\n",
       "      <td>0.138057</td>\n",
       "      <td>0.835895</td>\n",
       "      <td>0.236975</td>\n",
       "      <td>0.807787</td>\n",
       "    </tr>\n",
       "  </tbody>\n",
       "</table>\n",
       "</div>"
      ],
      "text/plain": [
       "       i  accuracy  precision    recall  f1_score   roc_auc\n",
       "0    1.0  0.933898   0.802864  0.146235  0.247406  0.804116\n",
       "1    2.0  0.931716   0.608670  0.226761  0.330422  0.806824\n",
       "2    3.0  0.924401   0.485774  0.298463  0.369749  0.807842\n",
       "3    4.0  0.916192   0.422773  0.350297  0.383138  0.808219\n",
       "4    5.0  0.905929   0.374758  0.398135  0.386093  0.808564\n",
       "5    6.0  0.890627   0.328273  0.451190  0.380040  0.808628\n",
       "6    7.0  0.872026   0.290204  0.499639  0.367155  0.808621\n",
       "7    8.0  0.843921   0.251634  0.557578  0.346771  0.808430\n",
       "8    9.0  0.816125   0.225917  0.607803  0.329398  0.808515\n",
       "9   10.0  0.781468   0.202666  0.661579  0.310281  0.808535\n",
       "10  11.0  0.761609   0.192337  0.690327  0.300851  0.808570\n",
       "11  12.0  0.745264   0.184110  0.707697  0.292202  0.808452\n",
       "12  13.0  0.729554   0.177170  0.724402  0.284708  0.808118\n",
       "13  14.0  0.712479   0.170880  0.744991  0.277996  0.808455\n",
       "14  15.0  0.695783   0.165011  0.762140  0.271285  0.808589\n",
       "15  16.0  0.679785   0.159723  0.776791  0.264964  0.808521\n",
       "16  17.0  0.655110   0.152181  0.796715  0.255549  0.808108\n",
       "17  18.0  0.637907   0.147340  0.809146  0.249286  0.808088\n",
       "18  19.0  0.617393   0.142112  0.823853  0.242409  0.808184\n",
       "19  20.0  0.600050   0.138057  0.835895  0.236975  0.807787"
      ]
     },
     "execution_count": 15,
     "metadata": {},
     "output_type": "execute_result"
    }
   ],
   "source": [
    "results_val.drop('check', axis=1)"
   ]
  },
  {
   "cell_type": "markdown",
   "id": "2a977b57",
   "metadata": {},
   "source": [
    "Выводы:\n",
    "+ ROC-AUC и  accuracy сохранены на высоком уровне\n",
    "+ recall вырос, precision снизился, f1 вырос\n",
    "+ пробовал запускать с разным параметром iterations, при этом меняется оптимальный class_weights\n",
    "\n",
    "Если знать, для чего дальше будет применяться модель и понимать \"цену\" ошибочного распознавания каждого из классов, можно было бы настраивать модель на максимизацию precision или recall."
   ]
  },
  {
   "cell_type": "markdown",
   "id": "d9abfaaf",
   "metadata": {},
   "source": [
    "### 4.3. Feature Selection\n",
    "Посмотрим на важность параметров и попробуем удалить те из них, предсказательная сила которых низкая."
   ]
  },
  {
   "cell_type": "code",
   "execution_count": 57,
   "id": "535dde54",
   "metadata": {},
   "outputs": [
    {
     "name": "stdout",
     "output_type": "stream",
     "text": [
      "Wall time: 1min 4s\n"
     ]
    },
    {
     "data": {
      "text/plain": [
       "Text(0.5, 1.0, 'Feature Importance')"
      ]
     },
     "execution_count": 57,
     "metadata": {},
     "output_type": "execute_result"
    },
    {
     "data": {
      "image/png": "[encoded data removed]",
      "text/plain": [
       "<Figure size 432x288 with 1 Axes>"
      ]
     },
     "metadata": {
      "needs_background": "light"
     },
     "output_type": "display_data"
    }
   ],
   "source": [
    "%%time\n",
    "\n",
    "# Строим модель с оптимальным class_weights\n",
    "\n",
    "from catboost import CatBoostClassifier\n",
    "model = CatBoostClassifier(\n",
    "    iterations=200,\n",
    "    class_weights = (1, 5),\n",
    "    task_type=\"GPU\",\n",
    "    devices='0:1'\n",
    ")\n",
    "model.fit(\n",
    "    x_train, y_train,\n",
    "    cat_features=cat_features,\n",
    "    verbose = False\n",
    ")\n",
    "\n",
    "# Посмотрим на важность признаков\n",
    "feature_importance = model.get_feature_importance(prettified=True)\n",
    "plt.barh(feature_importance['Feature Id'], feature_importance['Importances'], align='center')\n",
    "plt.title('Feature Importance')"
   ]
  },
  {
   "cell_type": "code",
   "execution_count": 11,
   "id": "479e876e",
   "metadata": {},
   "outputs": [
    {
     "name": "stdout",
     "output_type": "stream",
     "text": [
      "precision: 0.3690487153513215\n",
      "recall: 0.41809029498448136\n",
      "f1_score: 0.3920417721364198\n",
      "roc_auc: 0.8117226775004022\n"
     ]
    },
    {
     "data": {
      "image/png": "[encoded data removed]",
      "text/plain": [
       "<Figure size 432x288 with 2 Axes>"
      ]
     },
     "metadata": {
      "needs_background": "light"
     },
     "output_type": "display_data"
    }
   ],
   "source": [
    "metrics(y_test, model.predict_proba(x_test)[:,1])"
   ]
  },
  {
   "cell_type": "code",
   "execution_count": 58,
   "id": "6424e433",
   "metadata": {},
   "outputs": [
    {
     "name": "stdout",
     "output_type": "stream",
     "text": [
      "0.8583160036285205 0.9136679790134473\n",
      "0.812569415254481 0.904364224137931\n",
      "precision: 0.3699420641645103\n",
      "recall: 0.42135051250619443\n",
      "f1_score: 0.39397634434825024\n",
      "roc_auc: 0.812569415254481\n",
      "Wall time: 1min 6s\n"
     ]
    },
    {
     "data": {
      "image/png": "[encoded data removed]",
      "text/plain": [
       "<Figure size 432x288 with 2 Axes>"
      ]
     },
     "metadata": {
      "needs_background": "light"
     },
     "output_type": "display_data"
    }
   ],
   "source": [
    "%%time\n",
    "\n",
    "# Попробуем удалить признаки с низкой предсказательной силой и обучить модель\n",
    "\n",
    "drop_col=['target', 'session_id', 'client_id']\n",
    "short_cat_features = cat_features.copy()\n",
    "for cl in list(feature_importance[feature_importance['Importances']<2]['Feature Id']):\n",
    "    drop_col.append(cl)\n",
    "    if cl in short_cat_features:\n",
    "        short_cat_features.remove(cl)\n",
    "        \n",
    "x_train, x_test, y_train, y_test = train_test_split(df_full.drop(drop_col, axis=1), df_full['target'], test_size=0.3, random_state = 42)\n",
    "\n",
    "from catboost import CatBoostClassifier\n",
    "model = CatBoostClassifier(\n",
    "    iterations=200,\n",
    "    class_weights = (1, 5),\n",
    "    task_type=\"GPU\",\n",
    "    devices='0:1'\n",
    ")\n",
    "model.fit(\n",
    "    x_train, y_train,\n",
    "    cat_features=short_cat_features,\n",
    "    verbose = False\n",
    ")\n",
    "\n",
    "\n",
    "train_pred = model.predict_proba(x_train)[:,1]\n",
    "test_pred = model.predict_proba(x_test)[:,1]\n",
    "\n",
    "print(roc_auc_score(y_train, train_pred), accuracy_score(y_train, train_pred>0.5))\n",
    "print(roc_auc_score(y_test, test_pred), accuracy_score(y_test, test_pred>0.5))\n",
    "\n",
    "metrics(y_test, test_pred)"
   ]
  },
  {
   "cell_type": "markdown",
   "id": "9f5ac608",
   "metadata": {},
   "source": [
    "Выводы:\n",
    "\n",
    "Качество модели из-за удаления признаков существенно не изменилось.\n",
    "Можно продолжить эксперименты с удалением признаков, пока не найдем оптимальный набор по параметрам качество модели и время, затрачиваемое на обучение. Я пока останавливаюсь на этом, так как обучение проходит достаточно быстро."
   ]
  },
  {
   "cell_type": "markdown",
   "id": "3c4111e5",
   "metadata": {},
   "source": [
    "### 4.4. Подбор параметров модели"
   ]
  },
  {
   "cell_type": "code",
   "execution_count": 78,
   "id": "1ad10f59",
   "metadata": {},
   "outputs": [],
   "source": [
    "x_train_v, x_val, y_train_v, y_val = train_test_split(x_train, y_train, test_size=0.2, random_state = 42)"
   ]
  },
  {
   "cell_type": "code",
   "execution_count": 79,
   "id": "1599ab2b",
   "metadata": {},
   "outputs": [
    {
     "name": "stderr",
     "output_type": "stream",
     "text": [
      "\u001b[32m[I 2022-10-31 20:53:50,877]\u001b[0m A new study created in memory with name: no-name-a7d1e640-c5d2-4346-8f0c-9fe9f4bc7deb\u001b[0m\n"
     ]
    },
    {
     "name": "stdout",
     "output_type": "stream",
     "text": [
      "Learning rate set to 0.412337\n",
      "0:\tlearn: 0.6283089\ttotal: 244ms\tremaining: 1m 47s\n",
      "439:\tlearn: 0.5001492\ttotal: 1m 42s\tremaining: 0us\n"
     ]
    },
    {
     "name": "stderr",
     "output_type": "stream",
     "text": [
      "\u001b[32m[I 2022-10-31 20:55:40,483]\u001b[0m Trial 0 finished with value: 0.7664923938679538 and parameters: {'iterations': 440, 'colsample_bylevel': 0.04572961079862404, 'depth': 2, 'boosting_type': 'Ordered', 'bootstrap_type': 'Bernoulli', 'class_weights': (1, 5), 'subsample': 0.3139830379342592}. Best is trial 0 with value: 0.7664923938679538.\u001b[0m\n"
     ]
    },
    {
     "name": "stdout",
     "output_type": "stream",
     "text": [
      "Learning rate set to 0.414932\n",
      "0:\tlearn: 0.5935951\ttotal: 203ms\tremaining: 1m 28s\n",
      "436:\tlearn: 0.5004180\ttotal: 50.6s\tremaining: 0us\n"
     ]
    },
    {
     "name": "stderr",
     "output_type": "stream",
     "text": [
      "\u001b[32m[I 2022-10-31 20:56:38,406]\u001b[0m Trial 1 finished with value: 0.7659128382261763 and parameters: {'iterations': 437, 'colsample_bylevel': 0.05797506227855848, 'depth': 2, 'boosting_type': 'Plain', 'bootstrap_type': 'Bayesian', 'class_weights': (1, 5), 'bagging_temperature': 5.751861396910568}. Best is trial 0 with value: 0.7664923938679538.\u001b[0m\n"
     ]
    },
    {
     "name": "stdout",
     "output_type": "stream",
     "text": [
      "Learning rate set to 0.476268\n",
      "0:\tlearn: 0.6214717\ttotal: 111ms\tremaining: 41.7s\n",
      "375:\tlearn: 0.4862968\ttotal: 51.2s\tremaining: 0us\n"
     ]
    },
    {
     "name": "stderr",
     "output_type": "stream",
     "text": [
      "\u001b[32m[I 2022-10-31 20:57:36,926]\u001b[0m Trial 2 finished with value: 0.7813885948502245 and parameters: {'iterations': 376, 'colsample_bylevel': 0.026778013620535376, 'depth': 8, 'boosting_type': 'Plain', 'bootstrap_type': 'Bayesian', 'class_weights': (1, 5), 'bagging_temperature': 4.955306314251874}. Best is trial 2 with value: 0.7813885948502245.\u001b[0m\n"
     ]
    },
    {
     "name": "stdout",
     "output_type": "stream",
     "text": [
      "Learning rate set to 0.5\n",
      "0:\tlearn: 0.6168034\ttotal: 80ms\tremaining: 4.4s\n",
      "55:\tlearn: 0.5011961\ttotal: 3.71s\tremaining: 0us\n"
     ]
    },
    {
     "name": "stderr",
     "output_type": "stream",
     "text": [
      "\u001b[32m[I 2022-10-31 20:57:47,470]\u001b[0m Trial 3 finished with value: 0.7635922057941453 and parameters: {'iterations': 56, 'colsample_bylevel': 0.08674995363296222, 'depth': 10, 'boosting_type': 'Plain', 'bootstrap_type': 'Bernoulli', 'class_weights': (1, 5), 'subsample': 0.5059361694694521}. Best is trial 2 with value: 0.7813885948502245.\u001b[0m\n"
     ]
    },
    {
     "name": "stdout",
     "output_type": "stream",
     "text": [
      "Learning rate set to 0.5\n",
      "0:\tlearn: 0.6328180\ttotal: 254ms\tremaining: 48.1s\n",
      "189:\tlearn: 0.5627420\ttotal: 18s\tremaining: 0us\n"
     ]
    },
    {
     "name": "stderr",
     "output_type": "stream",
     "text": [
      "\u001b[32m[I 2022-10-31 20:58:12,189]\u001b[0m Trial 4 finished with value: 0.7600903155966887 and parameters: {'iterations': 190, 'colsample_bylevel': 0.058514294160102925, 'depth': 10, 'boosting_type': 'Ordered', 'bootstrap_type': 'Bayesian', 'class_weights': (1, 8), 'bagging_temperature': 1.7882319610453479}. Best is trial 2 with value: 0.7813885948502245.\u001b[0m\n"
     ]
    },
    {
     "name": "stdout",
     "output_type": "stream",
     "text": [
      "Learning rate set to 0.5\n",
      "0:\tlearn: 0.6738902\ttotal: 103ms\tremaining: 29.3s\n",
      "285:\tlearn: 0.5623791\ttotal: 30.5s\tremaining: 0us\n"
     ]
    },
    {
     "name": "stderr",
     "output_type": "stream",
     "text": [
      "\u001b[32m[I 2022-10-31 20:58:49,602]\u001b[0m Trial 5 finished with value: 0.7624522251077572 and parameters: {'iterations': 286, 'colsample_bylevel': 0.01907712011732317, 'depth': 4, 'boosting_type': 'Plain', 'bootstrap_type': 'MVS', 'class_weights': (1, 8)}. Best is trial 2 with value: 0.7813885948502245.\u001b[0m\n"
     ]
    },
    {
     "name": "stdout",
     "output_type": "stream",
     "text": [
      "Learning rate set to 0.5\n",
      "0:\tlearn: 0.6367058\ttotal: 131ms\tremaining: 19.3s\n",
      "148:\tlearn: 0.5698598\ttotal: 8.28s\tremaining: 0us\n"
     ]
    },
    {
     "name": "stderr",
     "output_type": "stream",
     "text": [
      "\u001b[32m[I 2022-10-31 20:59:04,843]\u001b[0m Trial 6 finished with value: 0.7527881476480671 and parameters: {'iterations': 149, 'colsample_bylevel': 0.07044272045783878, 'depth': 2, 'boosting_type': 'Plain', 'bootstrap_type': 'Bayesian', 'class_weights': (1, 8), 'bagging_temperature': 2.434969805278505}. Best is trial 2 with value: 0.7813885948502245.\u001b[0m\n"
     ]
    },
    {
     "name": "stdout",
     "output_type": "stream",
     "text": [
      "Learning rate set to 0.420226\n",
      "0:\tlearn: 0.6274194\ttotal: 110ms\tremaining: 47.1s\n",
      "430:\tlearn: 0.4952725\ttotal: 47.1s\tremaining: 0us\n"
     ]
    },
    {
     "name": "stderr",
     "output_type": "stream",
     "text": [
      "\u001b[32m[I 2022-10-31 20:59:58,886]\u001b[0m Trial 7 finished with value: 0.7716481833710584 and parameters: {'iterations': 431, 'colsample_bylevel': 0.024149592748318488, 'depth': 6, 'boosting_type': 'Plain', 'bootstrap_type': 'Bayesian', 'class_weights': (1, 5), 'bagging_temperature': 1.176742521236045}. Best is trial 2 with value: 0.7813885948502245.\u001b[0m\n"
     ]
    },
    {
     "name": "stdout",
     "output_type": "stream",
     "text": [
      "Learning rate set to 0.5\n",
      "0:\tlearn: 0.6224216\ttotal: 78ms\tremaining: 5.31s\n",
      "68:\tlearn: 0.5231696\ttotal: 6.41s\tremaining: 0us\n"
     ]
    },
    {
     "name": "stderr",
     "output_type": "stream",
     "text": [
      "\u001b[32m[I 2022-10-31 21:00:12,027]\u001b[0m Trial 8 finished with value: 0.7357674876455846 and parameters: {'iterations': 69, 'colsample_bylevel': 0.03075726146117127, 'depth': 5, 'boosting_type': 'Ordered', 'bootstrap_type': 'MVS', 'class_weights': (1, 5)}. Best is trial 2 with value: 0.7813885948502245.\u001b[0m\n"
     ]
    },
    {
     "name": "stdout",
     "output_type": "stream",
     "text": [
      "Learning rate set to 0.5\n",
      "0:\tlearn: 0.6224216\ttotal: 77.3ms\tremaining: 14.8s\n",
      "192:\tlearn: 0.5130058\ttotal: 16.9s\tremaining: 0us\n"
     ]
    },
    {
     "name": "stderr",
     "output_type": "stream",
     "text": [
      "\u001b[32m[I 2022-10-31 21:00:35,602]\u001b[0m Trial 9 finished with value: 0.7488710733344623 and parameters: {'iterations': 193, 'colsample_bylevel': 0.03752234113056455, 'depth': 3, 'boosting_type': 'Ordered', 'bootstrap_type': 'Bernoulli', 'class_weights': (1, 5), 'subsample': 0.5151844858062795}. Best is trial 2 with value: 0.7813885948502245.\u001b[0m\n"
     ]
    },
    {
     "name": "stdout",
     "output_type": "stream",
     "text": [
      "Learning rate set to 0.5\n",
      "0:\tlearn: 0.6738902\ttotal: 103ms\tremaining: 32.7s\n",
      "317:\tlearn: 0.5767101\ttotal: 30.1s\tremaining: 0us\n"
     ]
    },
    {
     "name": "stderr",
     "output_type": "stream",
     "text": [
      "\u001b[32m[I 2022-10-31 21:01:12,370]\u001b[0m Trial 10 finished with value: 0.7446826703802352 and parameters: {'iterations': 318, 'colsample_bylevel': 0.012333961812165298, 'depth': 8, 'boosting_type': 'Plain', 'bootstrap_type': 'Bayesian', 'class_weights': (1, 8), 'bagging_temperature': 9.340340525142768}. Best is trial 2 with value: 0.7813885948502245.\u001b[0m\n"
     ]
    },
    {
     "name": "stdout",
     "output_type": "stream",
     "text": [
      "Learning rate set to 0.484546\n",
      "0:\tlearn: 0.6206480\ttotal: 109ms\tremaining: 40s\n",
      "368:\tlearn: 0.4902285\ttotal: 48.4s\tremaining: 0us\n"
     ]
    },
    {
     "name": "stderr",
     "output_type": "stream",
     "text": [
      "\u001b[32m[I 2022-10-31 21:02:08,849]\u001b[0m Trial 11 finished with value: 0.7781058574992039 and parameters: {'iterations': 369, 'colsample_bylevel': 0.028032119165541054, 'depth': 7, 'boosting_type': 'Plain', 'bootstrap_type': 'Bayesian', 'class_weights': (1, 5), 'bagging_temperature': 5.320227270016279}. Best is trial 2 with value: 0.7813885948502245.\u001b[0m\n"
     ]
    },
    {
     "name": "stdout",
     "output_type": "stream",
     "text": [
      "Learning rate set to 0.498182\n",
      "0:\tlearn: 0.6193219\ttotal: 128ms\tremaining: 45.8s\n",
      "357:\tlearn: 0.4841828\ttotal: 57.4s\tremaining: 0us\n"
     ]
    },
    {
     "name": "stderr",
     "output_type": "stream",
     "text": [
      "\u001b[32m[I 2022-10-31 21:03:14,147]\u001b[0m Trial 12 finished with value: 0.7803836288947188 and parameters: {'iterations': 358, 'colsample_bylevel': 0.038654140978232714, 'depth': 8, 'boosting_type': 'Plain', 'bootstrap_type': 'Bayesian', 'class_weights': (1, 5), 'bagging_temperature': 5.6905931893397685}. Best is trial 2 with value: 0.7813885948502245.\u001b[0m\n"
     ]
    },
    {
     "name": "stdout",
     "output_type": "stream",
     "text": [
      "Learning rate set to 0.5\n",
      "0:\tlearn: 0.6191479\ttotal: 109ms\tremaining: 38.2s\n",
      "352:\tlearn: 0.4779440\ttotal: 1m\tremaining: 0us\n"
     ]
    },
    {
     "name": "stderr",
     "output_type": "stream",
     "text": [
      "\u001b[32m[I 2022-10-31 21:04:22,058]\u001b[0m Trial 13 finished with value: 0.7820061794384935 and parameters: {'iterations': 353, 'colsample_bylevel': 0.044423373003156255, 'depth': 9, 'boosting_type': 'Plain', 'bootstrap_type': 'Bayesian', 'class_weights': (1, 5), 'bagging_temperature': 7.671101772036302}. Best is trial 13 with value: 0.7820061794384935.\u001b[0m\n"
     ]
    },
    {
     "name": "stdout",
     "output_type": "stream",
     "text": [
      "Learning rate set to 0.484546\n",
      "0:\tlearn: 0.5831686\ttotal: 187ms\tremaining: 1m 8s\n",
      "368:\tlearn: 0.4308382\ttotal: 1m 31s\tremaining: 0us\n"
     ]
    },
    {
     "name": "stderr",
     "output_type": "stream",
     "text": [
      "\u001b[32m[I 2022-10-31 21:06:02,742]\u001b[0m Trial 14 finished with value: 0.8006356726534231 and parameters: {'iterations': 369, 'colsample_bylevel': 0.04861606395748145, 'depth': 12, 'boosting_type': 'Plain', 'bootstrap_type': 'MVS', 'class_weights': (1, 5)}. Best is trial 14 with value: 0.8006356726534231.\u001b[0m\n"
     ]
    },
    {
     "name": "stdout",
     "output_type": "stream",
     "text": [
      "Learning rate set to 0.377829\n",
      "0:\tlearn: 0.5820162\ttotal: 1.02s\tremaining: 8m 13s\n",
      "483:\tlearn: 0.3683834\ttotal: 4m 31s\tremaining: 0us\n"
     ]
    },
    {
     "name": "stderr",
     "output_type": "stream",
     "text": [
      "\u001b[32m[I 2022-10-31 21:10:43,660]\u001b[0m Trial 15 finished with value: 0.7943314217714236 and parameters: {'iterations': 484, 'colsample_bylevel': 0.07652345549883044, 'depth': 12, 'boosting_type': 'Plain', 'bootstrap_type': 'MVS', 'class_weights': (1, 5)}. Best is trial 14 with value: 0.8006356726534231.\u001b[0m\n"
     ]
    },
    {
     "name": "stdout",
     "output_type": "stream",
     "text": [
      "Learning rate set to 0.375694\n",
      "0:\tlearn: 0.5814655\ttotal: 1.2s\tremaining: 9m 41s\n",
      "486:\tlearn: 0.3394401\ttotal: 6m 1s\tremaining: 0us\n"
     ]
    },
    {
     "name": "stderr",
     "output_type": "stream",
     "text": [
      "\u001b[32m[I 2022-10-31 21:16:54,738]\u001b[0m Trial 16 finished with value: 0.7871944783246749 and parameters: {'iterations': 487, 'colsample_bylevel': 0.09305488324728577, 'depth': 12, 'boosting_type': 'Plain', 'bootstrap_type': 'MVS', 'class_weights': (1, 5)}. Best is trial 14 with value: 0.8006356726534231.\u001b[0m\n"
     ]
    },
    {
     "name": "stdout",
     "output_type": "stream",
     "text": [
      "Learning rate set to 0.368757\n",
      "0:\tlearn: 0.5812002\ttotal: 978ms\tremaining: 8m 5s\n",
      "496:\tlearn: 0.3732997\ttotal: 4m 20s\tremaining: 0us\n"
     ]
    },
    {
     "name": "stderr",
     "output_type": "stream",
     "text": [
      "\u001b[32m[I 2022-10-31 21:21:24,100]\u001b[0m Trial 17 finished with value: 0.796853939626741 and parameters: {'iterations': 497, 'colsample_bylevel': 0.07383417885324185, 'depth': 12, 'boosting_type': 'Plain', 'bootstrap_type': 'MVS', 'class_weights': (1, 5)}. Best is trial 14 with value: 0.8006356726534231.\u001b[0m\n"
     ]
    },
    {
     "name": "stdout",
     "output_type": "stream",
     "text": [
      "Learning rate set to 0.5\n",
      "0:\tlearn: 0.6155966\ttotal: 678ms\tremaining: 3m 2s\n",
      "269:\tlearn: 0.5165314\ttotal: 2m 56s\tremaining: 0us\n"
     ]
    },
    {
     "name": "stderr",
     "output_type": "stream",
     "text": [
      "\u001b[32m[I 2022-10-31 21:24:29,015]\u001b[0m Trial 18 finished with value: 0.7996765729893796 and parameters: {'iterations': 270, 'colsample_bylevel': 0.07186898900766563, 'depth': 11, 'boosting_type': 'Ordered', 'bootstrap_type': 'MVS', 'class_weights': (1, 8)}. Best is trial 14 with value: 0.8006356726534231.\u001b[0m\n"
     ]
    },
    {
     "name": "stdout",
     "output_type": "stream",
     "text": [
      "Learning rate set to 0.5\n",
      "0:\tlearn: 0.6181834\ttotal: 718ms\tremaining: 2m 48s\n",
      "235:\tlearn: 0.5208976\ttotal: 1m 47s\tremaining: 0us\n"
     ]
    },
    {
     "name": "stderr",
     "output_type": "stream",
     "text": [
      "\u001b[32m[I 2022-10-31 21:26:23,466]\u001b[0m Trial 19 finished with value: 0.7969977864501389 and parameters: {'iterations': 236, 'colsample_bylevel': 0.06499441700422029, 'depth': 10, 'boosting_type': 'Ordered', 'bootstrap_type': 'MVS', 'class_weights': (1, 8)}. Best is trial 14 with value: 0.8006356726534231.\u001b[0m\n"
     ]
    },
    {
     "name": "stdout",
     "output_type": "stream",
     "text": [
      "Learning rate set to 0.5\n",
      "0:\tlearn: 0.6061428\ttotal: 1.55s\tremaining: 6m 34s\n",
      "255:\tlearn: 0.5152426\ttotal: 3m 10s\tremaining: 0us\n"
     ]
    },
    {
     "name": "stderr",
     "output_type": "stream",
     "text": [
      "\u001b[32m[I 2022-10-31 21:29:41,833]\u001b[0m Trial 20 finished with value: 0.8011316723442761 and parameters: {'iterations': 256, 'colsample_bylevel': 0.08159337489128006, 'depth': 11, 'boosting_type': 'Ordered', 'bootstrap_type': 'MVS', 'class_weights': (1, 8)}. Best is trial 20 with value: 0.8011316723442761.\u001b[0m\n"
     ]
    },
    {
     "name": "stdout",
     "output_type": "stream",
     "text": [
      "Learning rate set to 0.5\n",
      "0:\tlearn: 0.6061428\ttotal: 1.56s\tremaining: 7m 11s\n",
      "276:\tlearn: 0.5172789\ttotal: 3m 20s\tremaining: 0us\n"
     ]
    },
    {
     "name": "stderr",
     "output_type": "stream",
     "text": [
      "\u001b[32m[I 2022-10-31 21:33:09,901]\u001b[0m Trial 21 finished with value: 0.798421240522367 and parameters: {'iterations': 277, 'colsample_bylevel': 0.0833118362035659, 'depth': 11, 'boosting_type': 'Ordered', 'bootstrap_type': 'MVS', 'class_weights': (1, 8)}. Best is trial 20 with value: 0.8011316723442761.\u001b[0m\n"
     ]
    },
    {
     "name": "stdout",
     "output_type": "stream",
     "text": [
      "Learning rate set to 0.5\n",
      "0:\tlearn: 0.6083872\ttotal: 1.68s\tremaining: 6m 30s\n",
      "232:\tlearn: 0.5138275\ttotal: 3m 58s\tremaining: 0us\n"
     ]
    },
    {
     "name": "stderr",
     "output_type": "stream",
     "text": [
      "\u001b[32m[I 2022-10-31 21:37:15,616]\u001b[0m Trial 22 finished with value: 0.7985359538995287 and parameters: {'iterations': 233, 'colsample_bylevel': 0.09892827116534104, 'depth': 11, 'boosting_type': 'Ordered', 'bootstrap_type': 'MVS', 'class_weights': (1, 8)}. Best is trial 20 with value: 0.8011316723442761.\u001b[0m\n"
     ]
    },
    {
     "name": "stdout",
     "output_type": "stream",
     "text": [
      "Learning rate set to 0.5\n",
      "0:\tlearn: 0.6061428\ttotal: 1.74s\tremaining: 9m 15s\n",
      "320:\tlearn: 0.5153922\ttotal: 3m 52s\tremaining: 0us\n"
     ]
    },
    {
     "name": "stderr",
     "output_type": "stream",
     "text": [
      "\u001b[32m[I 2022-10-31 21:41:16,092]\u001b[0m Trial 23 finished with value: 0.7992249341196735 and parameters: {'iterations': 321, 'colsample_bylevel': 0.08154450448985881, 'depth': 11, 'boosting_type': 'Ordered', 'bootstrap_type': 'MVS', 'class_weights': (1, 8)}. Best is trial 20 with value: 0.8011316723442761.\u001b[0m\n"
     ]
    },
    {
     "name": "stdout",
     "output_type": "stream",
     "text": [
      "Learning rate set to 0.5\n",
      "0:\tlearn: 0.6155966\ttotal: 673ms\tremaining: 2m 43s\n",
      "243:\tlearn: 0.5229165\ttotal: 1m 37s\tremaining: 0us\n"
     ]
    },
    {
     "name": "stderr",
     "output_type": "stream",
     "text": [
      "\u001b[32m[I 2022-10-31 21:43:00,866]\u001b[0m Trial 24 finished with value: 0.7959217709478873 and parameters: {'iterations': 244, 'colsample_bylevel': 0.06698113258113164, 'depth': 9, 'boosting_type': 'Ordered', 'bootstrap_type': 'MVS', 'class_weights': (1, 8)}. Best is trial 20 with value: 0.8011316723442761.\u001b[0m\n"
     ]
    },
    {
     "name": "stdout",
     "output_type": "stream",
     "text": [
      "Learning rate set to 0.5\n",
      "0:\tlearn: 0.6367058\ttotal: 155ms\tremaining: 22s\n",
      "142:\tlearn: 0.5690195\ttotal: 13.3s\tremaining: 0us\n"
     ]
    },
    {
     "name": "stderr",
     "output_type": "stream",
     "text": [
      "\u001b[32m[I 2022-10-31 21:43:20,941]\u001b[0m Trial 25 finished with value: 0.7539832553695867 and parameters: {'iterations': 143, 'colsample_bylevel': 0.05083245219206784, 'depth': 12, 'boosting_type': 'Ordered', 'bootstrap_type': 'MVS', 'class_weights': (1, 8)}. Best is trial 20 with value: 0.8011316723442761.\u001b[0m\n"
     ]
    },
    {
     "name": "stdout",
     "output_type": "stream",
     "text": [
      "Learning rate set to 0.5\n",
      "0:\tlearn: 0.6145246\ttotal: 971ms\tremaining: 5m 5s\n",
      "314:\tlearn: 0.5180389\ttotal: 2m 39s\tremaining: 0us\n"
     ]
    },
    {
     "name": "stderr",
     "output_type": "stream",
     "text": [
      "\u001b[32m[I 2022-10-31 21:46:07,744]\u001b[0m Trial 26 finished with value: 0.7972113597862716 and parameters: {'iterations': 315, 'colsample_bylevel': 0.061210119085408306, 'depth': 11, 'boosting_type': 'Ordered', 'bootstrap_type': 'MVS', 'class_weights': (1, 8)}. Best is trial 20 with value: 0.8011316723442761.\u001b[0m\n"
     ]
    },
    {
     "name": "stdout",
     "output_type": "stream",
     "text": [
      "Learning rate set to 0.448968\n",
      "0:\tlearn: 0.6152124\ttotal: 759ms\tremaining: 5m 3s\n",
      "400:\tlearn: 0.5215793\ttotal: 2m 9s\tremaining: 0us\n"
     ]
    },
    {
     "name": "stderr",
     "output_type": "stream",
     "text": [
      "\u001b[32m[I 2022-10-31 21:48:25,480]\u001b[0m Trial 27 finished with value: 0.7992526166040025 and parameters: {'iterations': 401, 'colsample_bylevel': 0.05280444794656316, 'depth': 9, 'boosting_type': 'Ordered', 'bootstrap_type': 'MVS', 'class_weights': (1, 8)}. Best is trial 20 with value: 0.8011316723442761.\u001b[0m\n"
     ]
    },
    {
     "name": "stdout",
     "output_type": "stream",
     "text": [
      "Learning rate set to 0.5\n",
      "0:\tlearn: 0.6176495\ttotal: 661ms\tremaining: 2m 12s\n",
      "200:\tlearn: 0.5168623\ttotal: 2m 23s\tremaining: 0us\n"
     ]
    },
    {
     "name": "stderr",
     "output_type": "stream",
     "text": [
      "\u001b[32m[I 2022-10-31 21:50:56,525]\u001b[0m Trial 28 finished with value: 0.7991901814869456 and parameters: {'iterations': 201, 'colsample_bylevel': 0.09130764858129245, 'depth': 10, 'boosting_type': 'Ordered', 'bootstrap_type': 'MVS', 'class_weights': (1, 8)}. Best is trial 20 with value: 0.8011316723442761.\u001b[0m\n"
     ]
    },
    {
     "name": "stdout",
     "output_type": "stream",
     "text": [
      "Learning rate set to 0.5\n",
      "0:\tlearn: 0.6738902\ttotal: 221ms\tremaining: 1m 3s\n",
      "289:\tlearn: 0.5249553\ttotal: 1m 44s\tremaining: 0us\n"
     ]
    },
    {
     "name": "stderr",
     "output_type": "stream",
     "text": [
      "\u001b[32m[I 2022-10-31 21:52:48,763]\u001b[0m Trial 29 finished with value: 0.8017150833744008 and parameters: {'iterations': 290, 'colsample_bylevel': 0.07758475163349463, 'depth': 7, 'boosting_type': 'Ordered', 'bootstrap_type': 'Bernoulli', 'class_weights': (1, 8), 'subsample': 0.9920254251704617}. Best is trial 29 with value: 0.8017150833744008.\u001b[0m\n"
     ]
    },
    {
     "name": "stdout",
     "output_type": "stream",
     "text": [
      "Learning rate set to 0.442895\n",
      "0:\tlearn: 0.6754328\ttotal: 208ms\tremaining: 1m 24s\n",
      "406:\tlearn: 0.5244172\ttotal: 2m 27s\tremaining: 0us\n"
     ]
    },
    {
     "name": "stderr",
     "output_type": "stream",
     "text": [
      "\u001b[32m[I 2022-10-31 21:55:24,179]\u001b[0m Trial 30 finished with value: 0.8021384861471716 and parameters: {'iterations': 407, 'colsample_bylevel': 0.07886646441959447, 'depth': 6, 'boosting_type': 'Ordered', 'bootstrap_type': 'Bernoulli', 'class_weights': (1, 8), 'subsample': 0.9494323394709483}. Best is trial 30 with value: 0.8021384861471716.\u001b[0m\n"
     ]
    },
    {
     "name": "stdout",
     "output_type": "stream",
     "text": [
      "Learning rate set to 0.436991\n",
      "0:\tlearn: 0.6756019\ttotal: 208ms\tremaining: 1m 25s\n",
      "412:\tlearn: 0.5272113\ttotal: 2m 20s\tremaining: 0us\n"
     ]
    },
    {
     "name": "stderr",
     "output_type": "stream",
     "text": [
      "\u001b[32m[I 2022-10-31 21:57:52,629]\u001b[0m Trial 31 finished with value: 0.7989742655252889 and parameters: {'iterations': 413, 'colsample_bylevel': 0.07993029115440585, 'depth': 6, 'boosting_type': 'Ordered', 'bootstrap_type': 'Bernoulli', 'class_weights': (1, 8), 'subsample': 0.9939944447873995}. Best is trial 30 with value: 0.8021384861471716.\u001b[0m\n"
     ]
    },
    {
     "name": "stdout",
     "output_type": "stream",
     "text": [
      "Learning rate set to 0.5\n",
      "0:\tlearn: 0.6655800\ttotal: 265ms\tremaining: 1m 27s\n",
      "329:\tlearn: 0.5290253\ttotal: 2m 2s\tremaining: 0us\n"
     ]
    },
    {
     "name": "stderr",
     "output_type": "stream",
     "text": [
      "\u001b[32m[I 2022-10-31 22:00:02,642]\u001b[0m Trial 32 finished with value: 0.7990797359574451 and parameters: {'iterations': 330, 'colsample_bylevel': 0.08933395419959012, 'depth': 5, 'boosting_type': 'Ordered', 'bootstrap_type': 'Bernoulli', 'class_weights': (1, 8), 'subsample': 0.9973295335406194}. Best is trial 30 with value: 0.8021384861471716.\u001b[0m\n"
     ]
    },
    {
     "name": "stdout",
     "output_type": "stream",
     "text": [
      "Learning rate set to 0.455218\n",
      "0:\tlearn: 0.6672650\ttotal: 263ms\tremaining: 1m 43s\n",
      "394:\tlearn: 0.5184993\ttotal: 3m 4s\tremaining: 0us\n"
     ]
    },
    {
     "name": "stderr",
     "output_type": "stream",
     "text": [
      "\u001b[32m[I 2022-10-31 22:03:15,082]\u001b[0m Trial 33 finished with value: 0.8050867141742619 and parameters: {'iterations': 395, 'colsample_bylevel': 0.09685892742011099, 'depth': 7, 'boosting_type': 'Ordered', 'bootstrap_type': 'Bernoulli', 'class_weights': (1, 8), 'subsample': 0.807875274394537}. Best is trial 33 with value: 0.8050867141742619.\u001b[0m\n"
     ]
    },
    {
     "name": "stdout",
     "output_type": "stream",
     "text": [
      "Learning rate set to 0.400662\n",
      "0:\tlearn: 0.6695234\ttotal: 260ms\tremaining: 1m 57s\n",
      "453:\tlearn: 0.5171094\ttotal: 3m 43s\tremaining: 0us\n"
     ]
    },
    {
     "name": "stderr",
     "output_type": "stream",
     "text": [
      "\u001b[32m[I 2022-10-31 22:07:07,617]\u001b[0m Trial 34 finished with value: 0.8064717697305204 and parameters: {'iterations': 454, 'colsample_bylevel': 0.09809113876865119, 'depth': 7, 'boosting_type': 'Ordered', 'bootstrap_type': 'Bernoulli', 'class_weights': (1, 8), 'subsample': 0.8207474842944953}. Best is trial 34 with value: 0.8064717697305204.\u001b[0m\n"
     ]
    },
    {
     "name": "stdout",
     "output_type": "stream",
     "text": [
      "Learning rate set to 0.399855\n",
      "0:\tlearn: 0.6695585\ttotal: 265ms\tremaining: 2m\n",
      "454:\tlearn: 0.5172237\ttotal: 3m 44s\tremaining: 0us\n"
     ]
    },
    {
     "name": "stderr",
     "output_type": "stream",
     "text": [
      "\u001b[32m[I 2022-10-31 22:11:00,840]\u001b[0m Trial 35 finished with value: 0.8066727142966609 and parameters: {'iterations': 455, 'colsample_bylevel': 0.09913260833918994, 'depth': 7, 'boosting_type': 'Ordered', 'bootstrap_type': 'Bernoulli', 'class_weights': (1, 8), 'subsample': 0.8271233868169855}. Best is trial 35 with value: 0.8066727142966609.\u001b[0m\n"
     ]
    },
    {
     "name": "stdout",
     "output_type": "stream",
     "text": [
      "Learning rate set to 0.391962\n",
      "0:\tlearn: 0.6699045\ttotal: 292ms\tremaining: 2m 15s\n",
      "464:\tlearn: 0.5242819\ttotal: 3m 22s\tremaining: 0us\n"
     ]
    },
    {
     "name": "stderr",
     "output_type": "stream",
     "text": [
      "\u001b[32m[I 2022-10-31 22:14:31,872]\u001b[0m Trial 36 finished with value: 0.8026521850023742 and parameters: {'iterations': 465, 'colsample_bylevel': 0.09909692225195055, 'depth': 5, 'boosting_type': 'Ordered', 'bootstrap_type': 'Bernoulli', 'class_weights': (1, 8), 'subsample': 0.7691853547247134}. Best is trial 35 with value: 0.8066727142966609.\u001b[0m\n"
     ]
    },
    {
     "name": "stdout",
     "output_type": "stream",
     "text": [
      "Learning rate set to 0.393515\n",
      "0:\tlearn: 0.6698360\ttotal: 260ms\tremaining: 2m\n",
      "462:\tlearn: 0.5232076\ttotal: 3m 17s\tremaining: 0us\n"
     ]
    },
    {
     "name": "stderr",
     "output_type": "stream",
     "text": [
      "\u001b[32m[I 2022-10-31 22:17:57,294]\u001b[0m Trial 37 finished with value: 0.8045787869066099 and parameters: {'iterations': 463, 'colsample_bylevel': 0.09985061214057367, 'depth': 5, 'boosting_type': 'Ordered', 'bootstrap_type': 'Bernoulli', 'class_weights': (1, 8), 'subsample': 0.7398018767431878}. Best is trial 35 with value: 0.8066727142966609.\u001b[0m\n"
     ]
    },
    {
     "name": "stdout",
     "output_type": "stream",
     "text": [
      "Learning rate set to 0.396658\n",
      "0:\tlearn: 0.6696981\ttotal: 276ms\tremaining: 2m 6s\n",
      "458:\tlearn: 0.5299518\ttotal: 2m 36s\tremaining: 0us\n"
     ]
    },
    {
     "name": "stderr",
     "output_type": "stream",
     "text": [
      "\u001b[32m[I 2022-10-31 22:20:40,994]\u001b[0m Trial 38 finished with value: 0.7978027027167686 and parameters: {'iterations': 459, 'colsample_bylevel': 0.09485777010106758, 'depth': 4, 'boosting_type': 'Ordered', 'bootstrap_type': 'Bernoulli', 'class_weights': (1, 8), 'subsample': 0.7518412658123501}. Best is trial 35 with value: 0.8066727142966609.\u001b[0m\n"
     ]
    },
    {
     "name": "stdout",
     "output_type": "stream",
     "text": [
      "Learning rate set to 0.408929\n",
      "0:\tlearn: 0.6691666\ttotal: 260ms\tremaining: 1m 55s\n",
      "443:\tlearn: 0.5176877\ttotal: 3m 12s\tremaining: 0us\n"
     ]
    },
    {
     "name": "stderr",
     "output_type": "stream",
     "text": [
      "\u001b[32m[I 2022-10-31 22:24:01,258]\u001b[0m Trial 39 finished with value: 0.8065490486860031 and parameters: {'iterations': 444, 'colsample_bylevel': 0.08680257630435648, 'depth': 7, 'boosting_type': 'Ordered', 'bootstrap_type': 'Bernoulli', 'class_weights': (1, 8), 'subsample': 0.7766604109492751}. Best is trial 35 with value: 0.8066727142966609.\u001b[0m\n"
     ]
    },
    {
     "name": "stdout",
     "output_type": "stream",
     "text": [
      "Learning rate set to 0.416681\n",
      "0:\tlearn: 0.6688367\ttotal: 262ms\tremaining: 1m 53s\n",
      "434:\tlearn: 0.5192791\ttotal: 3m 8s\tremaining: 0us\n"
     ]
    },
    {
     "name": "stderr",
     "output_type": "stream",
     "text": [
      "\u001b[32m[I 2022-10-31 22:27:17,505]\u001b[0m Trial 40 finished with value: 0.8053840634725805 and parameters: {'iterations': 435, 'colsample_bylevel': 0.0855906547372952, 'depth': 7, 'boosting_type': 'Ordered', 'bootstrap_type': 'Bernoulli', 'class_weights': (1, 8), 'subsample': 0.8063261819315797}. Best is trial 35 with value: 0.8066727142966609.\u001b[0m\n"
     ]
    },
    {
     "name": "stdout",
     "output_type": "stream",
     "text": [
      "Learning rate set to 0.420226\n",
      "0:\tlearn: 0.6686874\ttotal: 260ms\tremaining: 1m 51s\n",
      "430:\tlearn: 0.5197541\ttotal: 2m 59s\tremaining: 0us\n"
     ]
    },
    {
     "name": "stderr",
     "output_type": "stream",
     "text": [
      "\u001b[32m[I 2022-10-31 22:30:25,482]\u001b[0m Trial 41 finished with value: 0.8051779855987505 and parameters: {'iterations': 431, 'colsample_bylevel': 0.08601471344914192, 'depth': 7, 'boosting_type': 'Ordered', 'bootstrap_type': 'Bernoulli', 'class_weights': (1, 8), 'subsample': 0.822069909591374}. Best is trial 35 with value: 0.8066727142966609.\u001b[0m\n"
     ]
    },
    {
     "name": "stdout",
     "output_type": "stream",
     "text": [
      "Learning rate set to 0.417562\n",
      "0:\tlearn: 0.6687995\ttotal: 258ms\tremaining: 1m 51s\n",
      "433:\tlearn: 0.5152993\ttotal: 3m 21s\tremaining: 0us\n"
     ]
    },
    {
     "name": "stderr",
     "output_type": "stream",
     "text": [
      "\u001b[32m[I 2022-10-31 22:33:55,021]\u001b[0m Trial 42 finished with value: 0.8042788225643296 and parameters: {'iterations': 434, 'colsample_bylevel': 0.08675441241797822, 'depth': 8, 'boosting_type': 'Ordered', 'bootstrap_type': 'Bernoulli', 'class_weights': (1, 8), 'subsample': 0.8441405250289253}. Best is trial 35 with value: 0.8066727142966609.\u001b[0m\n"
     ]
    },
    {
     "name": "stdout",
     "output_type": "stream",
     "text": [
      "Learning rate set to 0.408929\n",
      "0:\tlearn: 0.6691666\ttotal: 247ms\tremaining: 1m 49s\n",
      "443:\tlearn: 0.5178438\ttotal: 3m 9s\tremaining: 0us\n"
     ]
    },
    {
     "name": "stderr",
     "output_type": "stream",
     "text": [
      "\u001b[32m[I 2022-10-31 22:37:12,868]\u001b[0m Trial 43 finished with value: 0.8057380444111325 and parameters: {'iterations': 444, 'colsample_bylevel': 0.0861685430132139, 'depth': 7, 'boosting_type': 'Ordered', 'bootstrap_type': 'Bernoulli', 'class_weights': (1, 8), 'subsample': 0.6312563060679625}. Best is trial 35 with value: 0.8066727142966609.\u001b[0m\n"
     ]
    },
    {
     "name": "stdout",
     "output_type": "stream",
     "text": [
      "Learning rate set to 0.40558\n",
      "0:\tlearn: 0.6693105\ttotal: 254ms\tremaining: 1m 53s\n",
      "447:\tlearn: 0.5218105\ttotal: 2m 55s\tremaining: 0us\n"
     ]
    },
    {
     "name": "stderr",
     "output_type": "stream",
     "text": [
      "\u001b[32m[I 2022-10-31 22:40:16,375]\u001b[0m Trial 44 finished with value: 0.8032255075273601 and parameters: {'iterations': 448, 'colsample_bylevel': 0.08980240787874239, 'depth': 6, 'boosting_type': 'Ordered', 'bootstrap_type': 'Bernoulli', 'class_weights': (1, 8), 'subsample': 0.6048732045054565}. Best is trial 35 with value: 0.8066727142966609.\u001b[0m\n"
     ]
    },
    {
     "name": "stdout",
     "output_type": "stream",
     "text": [
      "Learning rate set to 0.464941\n",
      "0:\tlearn: 0.6668862\ttotal: 255ms\tremaining: 1m 38s\n",
      "385:\tlearn: 0.5144232\ttotal: 3m 5s\tremaining: 0us\n"
     ]
    },
    {
     "name": "stderr",
     "output_type": "stream",
     "text": [
      "\u001b[32m[I 2022-10-31 22:43:29,977]\u001b[0m Trial 45 finished with value: 0.8055244449950132 and parameters: {'iterations': 386, 'colsample_bylevel': 0.09432920604436161, 'depth': 8, 'boosting_type': 'Ordered', 'bootstrap_type': 'Bernoulli', 'class_weights': (1, 8), 'subsample': 0.6487738579760358}. Best is trial 35 with value: 0.8066727142966609.\u001b[0m\n"
     ]
    },
    {
     "name": "stdout",
     "output_type": "stream",
     "text": [
      "Learning rate set to 0.464941\n",
      "0:\tlearn: 0.6668862\ttotal: 249ms\tremaining: 1m 35s\n",
      "385:\tlearn: 0.5127651\ttotal: 3m 16s\tremaining: 0us\n"
     ]
    },
    {
     "name": "stderr",
     "output_type": "stream",
     "text": [
      "\u001b[32m[I 2022-10-31 22:46:54,488]\u001b[0m Trial 46 finished with value: 0.8072549052531008 and parameters: {'iterations': 386, 'colsample_bylevel': 0.09412042370202543, 'depth': 8, 'boosting_type': 'Ordered', 'bootstrap_type': 'Bernoulli', 'class_weights': (1, 8), 'subsample': 0.6398116492462942}. Best is trial 46 with value: 0.8072549052531008.\u001b[0m\n"
     ]
    },
    {
     "name": "stdout",
     "output_type": "stream",
     "text": [
      "Learning rate set to 0.384389\n",
      "0:\tlearn: 0.6702410\ttotal: 249ms\tremaining: 1m 57s\n",
      "474:\tlearn: 0.5143219\ttotal: 3m 47s\tremaining: 0us\n"
     ]
    },
    {
     "name": "stderr",
     "output_type": "stream",
     "text": [
      "\u001b[32m[I 2022-10-31 22:50:50,207]\u001b[0m Trial 47 finished with value: 0.8070820955539951 and parameters: {'iterations': 475, 'colsample_bylevel': 0.09115314715880857, 'depth': 8, 'boosting_type': 'Ordered', 'bootstrap_type': 'Bernoulli', 'class_weights': (1, 8), 'subsample': 0.6629806149837099}. Best is trial 46 with value: 0.8072549052531008.\u001b[0m\n"
     ]
    },
    {
     "name": "stdout",
     "output_type": "stream",
     "text": [
      "Learning rate set to 0.383648\n",
      "0:\tlearn: 0.6702741\ttotal: 246ms\tremaining: 1m 56s\n",
      "475:\tlearn: 0.5706764\ttotal: 1m 35s\tremaining: 0us\n"
     ]
    },
    {
     "name": "stderr",
     "output_type": "stream",
     "text": [
      "\u001b[32m[I 2022-10-31 22:52:32,575]\u001b[0m Trial 48 finished with value: 0.7508814342674329 and parameters: {'iterations': 476, 'colsample_bylevel': 0.09299981622731374, 'depth': 1, 'boosting_type': 'Ordered', 'bootstrap_type': 'Bernoulli', 'class_weights': (1, 8), 'subsample': 0.6848375525438445}. Best is trial 46 with value: 0.8072549052531008.\u001b[0m\n"
     ]
    },
    {
     "name": "stdout",
     "output_type": "stream",
     "text": [
      "Learning rate set to 0.369438\n",
      "0:\tlearn: 0.6709181\ttotal: 258ms\tremaining: 2m 7s\n",
      "495:\tlearn: 0.5136995\ttotal: 4m 8s\tremaining: 0us\n"
     ]
    },
    {
     "name": "stderr",
     "output_type": "stream",
     "text": [
      "\u001b[32m[I 2022-10-31 22:56:50,236]\u001b[0m Trial 49 finished with value: 0.8073644735803989 and parameters: {'iterations': 496, 'colsample_bylevel': 0.09465552587004872, 'depth': 8, 'boosting_type': 'Ordered', 'bootstrap_type': 'Bernoulli', 'class_weights': (1, 8), 'subsample': 0.9002441246234913}. Best is trial 49 with value: 0.8073644735803989.\u001b[0m\n"
     ]
    },
    {
     "name": "stdout",
     "output_type": "stream",
     "text": [
      "Wall time: 2h 2min 59s\n"
     ]
    }
   ],
   "source": [
    "%%time\n",
    "import optuna\n",
    "import pandas as pd\n",
    "\n",
    "\n",
    "def run_cb(trial):\n",
    "    param = {\n",
    "        \"iterations\": trial.suggest_int(\"iterations\", 50, 500),\n",
    "        \"colsample_bylevel\": trial.suggest_float(\"colsample_bylevel\", 0.01, 0.1),\n",
    "        \"depth\": trial.suggest_int(\"depth\", 1, 12),\n",
    "        \"boosting_type\": trial.suggest_categorical(\"boosting_type\", [\"Ordered\", \"Plain\"]),\n",
    "        \"bootstrap_type\": trial.suggest_categorical(\"bootstrap_type\", [\"Bayesian\", \"Bernoulli\", \"MVS\"]),\n",
    "        \"class_weights\": trial.suggest_categorical(\"class_weights\", [(1, 5), (1, 8)]),\n",
    "    }\n",
    "    \n",
    "   \n",
    "    if param[\"bootstrap_type\"] == \"Bayesian\":\n",
    "        param[\"bagging_temperature\"] = trial.suggest_float(\"bagging_temperature\", 0, 10)\n",
    "    elif param[\"bootstrap_type\"] == \"Bernoulli\":\n",
    "        param[\"subsample\"] = trial.suggest_float(\"subsample\", 0.1, 1)\n",
    "\n",
    "    cb_model = CatBoostClassifier(**param)\n",
    "    \n",
    "    cb_model.fit(\n",
    "        x_train_v,\n",
    "        y_train_v,\n",
    "        cat_features=short_cat_features,\n",
    "        early_stopping_rounds=100,        \n",
    "        verbose=1000\n",
    "    )\n",
    "    \n",
    "    preds = cb_model.predict_proba(x_val)[:, 1]\n",
    "    score = roc_auc_score(y_val, preds)\n",
    "    return score\n",
    "\n",
    "\n",
    "cb_study = optuna.create_study(direction=\"maximize\")\n",
    "cb_study.optimize(run_cb, n_trials=50)"
   ]
  },
  {
   "cell_type": "code",
   "execution_count": 80,
   "id": "e46c21d3",
   "metadata": {},
   "outputs": [
    {
     "data": {
      "text/plain": [
       "{'iterations': 496,\n",
       " 'colsample_bylevel': 0.09465552587004872,\n",
       " 'depth': 8,\n",
       " 'boosting_type': 'Ordered',\n",
       " 'bootstrap_type': 'Bernoulli',\n",
       " 'class_weights': (1, 8),\n",
       " 'subsample': 0.9002441246234913}"
      ]
     },
     "execution_count": 80,
     "metadata": {},
     "output_type": "execute_result"
    }
   ],
   "source": [
    "param = cb_study.best_params\n",
    "param"
   ]
  },
  {
   "cell_type": "code",
   "execution_count": 61,
   "id": "475dd8e6",
   "metadata": {},
   "outputs": [
    {
     "name": "stdout",
     "output_type": "stream",
     "text": [
      "0.8584064415549224 0.8573123885646049\n",
      "precision: 0.2535796172383136\n",
      "recall: 0.56537388174539\n",
      "f1_score: 0.35012315768221275\n",
      "roc_auc: 0.8123042257899596\n",
      "Wall time: 4min 1s\n"
     ]
    },
    {
     "data": {
      "image/png": "[encoded data removed]",
      "text/plain": [
       "<Figure size 432x288 with 2 Axes>"
      ]
     },
     "metadata": {
      "needs_background": "light"
     },
     "output_type": "display_data"
    }
   ],
   "source": [
    "%%time\n",
    "\n",
    "x_train, x_test, y_train, y_test = train_test_split(df_full.drop(drop_col, axis=1), df_full['target'], test_size=0.3, random_state = 42)\n",
    "\n",
    "\n",
    "from catboost import CatBoostClassifier\n",
    "model = CatBoostClassifier(**param)\n",
    "\n",
    "model.fit(\n",
    "    x_train, y_train,\n",
    "    cat_features=short_cat_features,\n",
    "    verbose = False\n",
    ")\n",
    "\n",
    "\n",
    "train_pred = model.predict_proba(x_train)[:,1]\n",
    "test_pred = model.predict_proba(x_test)[:,1]\n",
    "\n",
    "print(roc_auc_score(y_train, train_pred), accuracy_score(y_train, train_pred>0.5))\n",
    "\n",
    "metrics(y_test, test_pred)"
   ]
  },
  {
   "cell_type": "markdown",
   "id": "d0c4f08b",
   "metadata": {},
   "source": [
    "### Подберем оптимальный порог отсечения"
   ]
  },
  {
   "cell_type": "code",
   "execution_count": null,
   "id": "f87d83e6",
   "metadata": {},
   "outputs": [],
   "source": [
    "%%time\n",
    "fr_train = pd.DataFrame(columns=['trsh', 'accuracy', 'precision', 'recall', 'f1'])\n",
    "for trsh in np.arange(0.2, 0.8, 0.001):\n",
    "    accuracy = accuracy_score(y_train, train_pred > trsh)\n",
    "    precision = precision_score(y_train, train_pred > trsh)\n",
    "    recall = recall_score(y_train, train_pred > trsh)\n",
    "    f1 = f1_score(y_train, train_pred > trsh)    \n",
    "    fr_train.loc[len(fr_train.index)] = [trsh, accuracy, precision, recall, f1]  "
   ]
  },
  {
   "cell_type": "code",
   "execution_count": 85,
   "id": "9bc8450d",
   "metadata": {},
   "outputs": [
    {
     "data": {
      "text/plain": [
       "0.6720000000000004"
      ]
     },
     "execution_count": 85,
     "metadata": {},
     "output_type": "execute_result"
    }
   ],
   "source": [
    "best_trsh = fr_train[fr_train.f1 == fr_train.f1.max()].trsh.iloc[0]\n",
    "best_trsh"
   ]
  },
  {
   "cell_type": "code",
   "execution_count": 74,
   "id": "2dd29f05",
   "metadata": {},
   "outputs": [
    {
     "data": {
      "text/plain": [
       "[]"
      ]
     },
     "execution_count": 74,
     "metadata": {},
     "output_type": "execute_result"
    },
    {
     "data": {
      "image/png": "[encoded data removed]",
      "text/plain": [
       "<Figure size 864x432 with 1 Axes>"
      ]
     },
     "metadata": {
      "needs_background": "light"
     },
     "output_type": "display_data"
    }
   ],
   "source": [
    "plt.figure(figsize=(12, 6))\n",
    "plt.plot(fr_train['trsh'], fr_train['recall'], color='r')\n",
    "plt.plot(fr_train['trsh'], fr_train['precision'], color='g')\n",
    "plt.plot(fr_train['trsh'], fr_train['f1'], color='b')\n",
    "plt.legend(['recall', 'precision', 'f1'])\n",
    "plt.xlabel('Порог', fontsize=14)\n",
    "plt.ylabel('Значения метрик', fontsize=14)\n",
    "plt.plot()"
   ]
  },
  {
   "cell_type": "markdown",
   "id": "c8f6d506",
   "metadata": {},
   "source": [
    "### Обчим модель с оптимальными параметрами на полном датасете и сохраним для использования в сервисе"
   ]
  },
  {
   "cell_type": "code",
   "execution_count": 86,
   "id": "e7097711",
   "metadata": {},
   "outputs": [
    {
     "name": "stdout",
     "output_type": "stream",
     "text": [
      "precision: 0.28680123782755584\n",
      "recall: 0.6344530888136977\n",
      "f1_score: 0.3950308312335181\n",
      "roc_auc: 0.8583247581564303\n",
      "Wall time: 8min 51s\n"
     ]
    },
    {
     "data": {
      "image/png": "[encoded data removed]",
      "text/plain": [
       "<Figure size 432x288 with 2 Axes>"
      ]
     },
     "metadata": {
      "needs_background": "light"
     },
     "output_type": "display_data"
    }
   ],
   "source": [
    "%%time\n",
    "x = df_full.drop(['target', 'session_id', 'client_id'], axis=1)\n",
    "y = df_full['target']\n",
    "\n",
    "from catboost import CatBoostClassifier\n",
    "model = CatBoostClassifier(**param)\n",
    "\n",
    "model.fit(\n",
    "    x, y,\n",
    "    cat_features=cat_features,\n",
    "    verbose = False\n",
    ")\n",
    "\n",
    "pred = model.predict_proba(x)[:,1]\n",
    "\n",
    "metrics(y, pred)"
   ]
  },
  {
   "cell_type": "code",
   "execution_count": 87,
   "id": "098cd936",
   "metadata": {},
   "outputs": [],
   "source": [
    "full_model = {\n",
    "    'model': model,\n",
    "    'most_frequent_utm_source': most_frequent_utm_source,    \n",
    "    'col_for_empty': col_for_empty,\n",
    "    'best_trsh': best_trsh,\n",
    "    'metadata': {        \n",
    "        'name': 'target_action_predict',\n",
    "        'author': 'Korob Vladimir',\n",
    "        'version': '1.0',\n",
    "        'date': datetime.now(),\n",
    "        'type': 'CatBoostClassifier'\n",
    "    }\n",
    "}\n",
    "\n",
    "with open('target_action_predict.pkl', 'wb') as file:\n",
    "    dill.dump(full_model, file)"
   ]
  }
 ],
 "metadata": {
  "kernelspec": {
   "display_name": "Python 3 (ipykernel)",
   "language": "python",
   "name": "python3"
  },
  "language_info": {
   "codemirror_mode": {
    "name": "ipython",
    "version": 3
   },
   "file_extension": ".py",
   "mimetype": "text/x-python",
   "name": "python",
   "nbconvert_exporter": "python",
   "pygments_lexer": "ipython3",
   "version": "3.9.13"
  }
 },
 "nbformat": 4,
 "nbformat_minor": 5
}
